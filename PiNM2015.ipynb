{
 "cells": [
  {
   "cell_type": "markdown",
   "metadata": {},
   "source": [
    "Feb 2016\n",
    "<img width=300 src=\"./fig/ladisk.png\">\n",
    "\n",
    "<center>[izr.prof. dr. Janko Slavič](http://www.ladisk.si/~slavic)</center>\n",
    "\n",
    "\n",
    "<center>[Repozitorij pypinm](http://github.com/jankoslavic/pypinm)</center>"
   ]
  },
  {
   "cell_type": "markdown",
   "metadata": {},
   "source": [
    "# Programiranje in numerične metode 2015/16 - študijski in izpitni red"
   ]
  },
  {
   "cell_type": "markdown",
   "metadata": {},
   "source": [
    "## Okvirna vsebina predmet:"
   ]
  },
  {
   "cell_type": "markdown",
   "metadata": {},
   "source": [
    "**Predavanja**: \n",
    "* **T** 10:30 V/2\n",
    "    * **izr. prof. J. Slavič** (pisarna DS-P3, 01 4771 226, janko.slavic@fs.uni-lj.si)\n",
    "\n",
    "**Vaje**:\n",
    "* **T1** 12:30 I/4: (Marko Mihalec)\n",
    "* **T2** 12:30 II/1: (Luka Knez)\n",
    "* **S1** 9:30 I/4: (Blaž Starc)\n",
    "* **S2** 13:00 I/4: (Marko Mihalec)\n",
    "* **S3** 13:00 II/1: (Blaž Starc)\n",
    "* **S4** 15:00 I/4: (Marko Mihalec)\n",
    "* **S5** 15:00 II/1: (Blaž Starc)\n",
    "* **Č1** 13:30 I/4: (Marko Mihalec)\n",
    "* **Č2** 13:30 II/1: (Luka Knez)\n",
    "* **Č3** 15:30 I/4: (Marko Mihalec)\n",
    "* **Č4** 15:30 II/1: (Luka Knez)\n",
    "* **P1** 9:30 I/4: (Marko Mihalec)\n",
    "* **P2** 12:30 II/1: (Luka Knez)\n",
    "\n",
    "**Govorilne ure:**\n",
    "* **Ponedeljek 13:30 - 14:30**\n",
    "    * Marko Mihalec (pisarna DS-P5, 01 4771 228, marko.mihalec@fs.uni-lj.si)\n",
    "    * Blaž  Starc (pisarna DS-P5, 01 4771 228, blaz.starc@fs.uni-lj.si)\n",
    "    * Luka Knez (pisarna DS-P6, 01 4771 229, luka.knez@fs.uni-lj.si)\n",
    " \n",
    "**Spremljanje sprotnega študija, obvestila itd**\n",
    "\n",
    "Sproten študij bomo izvajali s pomočjo: [moj.ladisk.si](http://moj.ladisk.si/). Za prijavo uporabite email, ki ga imate v VIS-u. Video prikaz prijave: [če imate gmail](https://www.youtube.com/watch?v=Xp5lfESTr7w), [poljubni drugi email](https://www.youtube.com/watch?v=vot_ZbARDoE).\n",
    "\n",
    "**Vprašanja in odgovori:**\n",
    "\n",
    "Vprašanja na temo predmeta ali tudi širše lahko postavite/odgovorite na portalu: [pinm.ladisk.si](http://pinm.ladisk.si).\n",
    "    \n",
    "**Dodatno delo na računalnikih**\n",
    "* Bo ojavljeno kmalu!\n",
    "\n",
    "<!--\n",
    "* Ob četrtkih od 11:30h do 12:30h lahko ob prisotnosti as. Mihalca izkoristite računalnike v I/4. \n",
    "-->"
   ]
  },
  {
   "cell_type": "markdown",
   "metadata": {},
   "source": [
    "**Razpored predavanj**\n",
    "\n",
    "1. [16. feb: Uvod v Python](./Predavanje 1 - Uvod v Python.ipynb)\n",
    "* [23. feb: Print, delo z datotekami, funkcije, moduli](./Predavanje 2 - Print, delo z datotekami, funkcije, moduli.ipynb)\n",
    "* [1. mar: Moduli, numpy, matplotlib](./Predavanje 3 - Moduli, numpy, matplotlib.ipynb)\n",
    "* [8. mar: Objektno programiranje, simbolno računanje](./Predavanje 4 - Objektno programiranje, simbolno računanje.ipynb)\n",
    "* [15. mar: Sistemi linearnih algebrajskih enačb 1](./Predavanje 5 - Sistemi linearnih algebrajskih enačb 1.ipynb)\n",
    "* [22. mar: Sistemi linearnih algebrajskih enačb 2](./Predavanje 6 - Sistemi linearnih algebrajskih enačb 2.ipynb)\n",
    "* [29. mar: Interpolacija](./Predavanje 7 - Interpolacija.ipynb)\n",
    "* [5. apr: Aproksimacija](./Predavanje 8 - Aproksimacija.ipynb)\n",
    "* [12. apr: Iskanje ničel](./Predavanje 9 - Iskanje ničel.ipynb)\n",
    "* [19. apr: Numerično odvajanje](./Predavanje 10 - Numerično odvajanje.ipynb)\n",
    "* [26. apr: Numerično integriranje](./Predavanje 11 - Numerično integriranje.ipynb)\n",
    "* [3. maj: Numerično reševanje diferencialnih enačb - začetni problem](./Predavanje 12 - Numerično reševanje diferencialnih enačb - začetni problem.ipynb)\n",
    "* [10. maj: Numerično reševanje diferencialnih enačb - robni problem](./Predavanje 13 - Numerično reševanje diferencialnih enačb - robni problem.ipynb)\n",
    "* [17. maj: Testiranje pravilnosti kode, uporabniški vmesnik](./Predavanje 14 - Testiranje pravilnosti kode, uporabniški vmesnik.ipynb)\n",
    "* [24. in 31. maj: Uvod v Mathematico*](./Uvod v Mathematico.nb)\n",
    "\n",
    "\\* Fakultativno predavanje, študentje Fakultete za strojništvo UNI-LJ imate možnost pridobiti licenčno verzijo programa Mathematica na tej [povezavi](http://www.fs.uni-lj.si/studijska_dejavnost/it_podpora/programska_oprema_za_studente/2015071415154271/Registracija%20Mathematica/)."
   ]
  },
  {
   "cell_type": "markdown",
   "metadata": {},
   "source": [
    "**Pomembni datumi**\n",
    "1. Prevzem individualnega projekta: sredi apr.\n",
    "* Oddaja individualnega projekta: 23.maj do 12h.\n",
    "* Zagovori okvirno: 30. maj - 3. jun.\n",
    "\n",
    "\n",
    "Predloge za predmet: [github.com/jankoslavic/pypinm](https://github.com/jankoslavic/pypinm)"
   ]
  },
  {
   "cell_type": "markdown",
   "metadata": {},
   "source": [
    "## Sprotni študij"
   ]
  },
  {
   "cell_type": "markdown",
   "metadata": {},
   "source": [
    "**Sestava ocene:**\n",
    "* 10% sodelovanje pri predavanjih\n",
    "* 30% sodelovanje pri vajah* (vsaj 70%)\n",
    "* 60% individualni projekt\\*\\* (vsaj 50%)\n",
    "    \n",
    "    \n",
    "\\* Na predavanja in vaje morate priti pripravljeni; uporabili bomo nekatere principe obratnega učenja! Če ne morete priti na vaje, pridete na prve konzultacije na katere lahko. Če upravičeno ne morete priti na predavanje, potem ob prvi priliki predavatelju posredujte seminar na temo predavanj - v obliki Jupyter notebooka.\n",
    "\n",
    "\\*\\* Vzorec individualnega projekta s kriteriji ocenjevanja si lahko ogledate [tukaj](./projekt/Individualni projekt - vzorec.ipynb).\n",
    "    \n",
    "**Predlog ocene:**\n",
    "* manj kot 40%: ne izpolnjuje pogojev za pristop k izpitu\n",
    "* 40% ali več: izpolnjuje pogoje za pristop k izpitu*\n",
    "* 50 do 60%: 6/6\n",
    "* 60 do 70%: 7/7\n",
    "* 70 do 80%: 8/8\n",
    "* 80 do 90%: 9/9\n",
    "* 90 do 100%: 10/10\n",
    "   \n",
    "Individualni projekt in predlog ocene se zagovarja na ustnem zagovoru."
   ]
  },
  {
   "cell_type": "markdown",
   "metadata": {},
   "source": [
    "## Izpit"
   ]
  },
  {
   "cell_type": "markdown",
   "metadata": {},
   "source": [
    "Če izpolnjujete pogoje za pristop k izpitu, potem lahko obveznosti opravite tudi z izpitom. Izpit se opravlja v dveh delih: 1h preverjanje uporabe numeričnih metod za računalnikom (tipično dve nalogi, sabo imate lahko poljubne pisne vire, dostopa do interneta ni), nato 1h za tri teoretična vprašanja. Za pozitivno oceno morata biti oba dela pozitivna."
   ]
  },
  {
   "cell_type": "markdown",
   "metadata": {},
   "source": [
    "## Literatura"
   ]
  },
  {
   "cell_type": "markdown",
   "metadata": {},
   "source": [
    "1. Slavič J.: Programiranje in numerične metode s Pythonom, [github.com/jankoslavic/pypinm](https://github.com/jankoslavic/pypinm), 2015-\n",
    "* Petrišič J.: Uvod v Matlab za inženirje, 2011\n",
    "* Demšar J. Python za programerje, 2012 (dosegljiva na spletu: http://goo.gl/PK1rUZ, glejte tudi to spletno učilnico: http://goo.gl/n4pVUe)\n",
    "* Kiusalaas J: Numerical Methods in Engineering with Python 3, 2013\n",
    "* Fangohr H. Python for Computational Science and Engineering, 2014  (dosegljiva na spletu: http://goo.gl/nCOfY0)\n",
    "* Bucky R. Python 3.4 Programming Tutorials (videi dosegljivi na: http://goo.gl/ie6nfD)\n",
    "* [Projekt TOMO](https://www.projekt-tomo.si) (več vsebin, glejte predvsem predmete na FMF in FRI)\n",
    "\n",
    "Opomba: za nekatere novejše izraze (npr. terka za tuple) se bomo navezali na: Demšar J., Python za programerje.\n",
    "\n",
    "Nekatere spletne učilnice na temo Pythona najdete na [pinm.ladisk.si](http://pinm.ladisk.si/9/katera-so-najbolj%C5%A1e-spletne-u%C4%8Dilnice-za-u%C4%8Denje-pythona)"
   ]
  },
  {
   "cell_type": "markdown",
   "metadata": {},
   "source": [
    "## Pogoji za poslušanje v naprej?"
   ]
  },
  {
   "cell_type": "markdown",
   "metadata": {},
   "source": [
    "Manjka lahko eden od predmetov: Tehniška mehanika 1, Tehniška matematika 1 in 2, Tehniška fizika, Informatika in računalništvo."
   ]
  }
 ],
 "metadata": {
  "kernelspec": {
   "display_name": "Python 3",
   "language": "python",
   "name": "python3"
  },
  "language_info": {
   "codemirror_mode": {
    "name": "ipython",
    "version": 3
   },
   "file_extension": ".py",
   "mimetype": "text/x-python",
   "name": "python",
   "nbconvert_exporter": "python",
   "pygments_lexer": "ipython3",
   "version": "3.5.1"
  }
 },
 "nbformat": 4,
 "nbformat_minor": 0
}
