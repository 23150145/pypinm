{
 "cells": [
  {
   "cell_type": "markdown",
   "metadata": {},
   "source": [
    "Sep 2015, J. Slavič"
   ]
  },
  {
   "cell_type": "code",
   "execution_count": 1,
   "metadata": {
    "collapsed": false
   },
   "outputs": [],
   "source": [
    "import numpy as np\n",
    "import matplotlib.pyplot as plt\n",
    "%matplotlib inline\n",
    "from sympy import *\n",
    "init_printing()"
   ]
  },
  {
   "cell_type": "markdown",
   "metadata": {},
   "source": [
    "# Numerično reševanje diferencialnih enačb z uporabo začetne vrednosti"
   ]
  },
  {
   "cell_type": "markdown",
   "metadata": {},
   "source": [
    "V okviru numeričnega reševanja *navadnih diferencialnih enačb* z uporabo začetne vrednosti se osredotočamo na reševanje izraza:\n",
    "$$\\mathbf{y}'=\\mathbf{f}(t, \\mathbf{y}),$$\n",
    "kjer so podani dodatni pogoji:\n",
    "$$\\mathbf{y}(\\mathbf{a})=\\boldsymbol{\\alpha}.$$\n",
    "Poudariti je treba, da gre zgoraj za vektorski zapis sistema navadnih diferencialnih enačb prvega reda. $\\mathbf{y}$ predstavlja vektor spremenljivk, $t$ neodvisno spremenljivko (ni nujno to vedno čas) in $\\mathbf{f}$ vektor funkcij. \n",
    "\n",
    "Eno diferencialno enačbo prvega reda bi zapisali tako:\n",
    "$$y'=f(t, y),$$\n",
    "kjer je podan dodatni pogoj:\n",
    "$$y(a)=\\alpha.$$\n",
    "\n",
    "Opomba: $f(t, y)$ je znana funkcija in $y'=dy/dx$.\n",
    "\n",
    "Tukaj je treba tudi poudariti, da lahko diferencialno enačbo poljubnega reda:\n",
    "$$y^{(n)}=f(t, y, y', y'',\\dots,y^{(n-1)}),$$\n",
    "vedno preoblikujemo v sistem diferencialnih enačb prvega reda! To naredimo z zamenjavo spremenljivk:\n",
    "$$y_0=y,\\quad y_1=y',\\quad y_2=y''\\quad\\cdots\\quad y_{n-1}=y^{n-1}.$$\n",
    "S tem smo v bistvu izpeljali sistem diferencialnih enačb prvega reda:\n",
    "$$\n",
    "\\begin{pmatrix}\n",
    "y_0'\\\\\n",
    "y_1'\\\\\n",
    "\\vdots\\\\\n",
    "y_{n-1}'\\\\\n",
    "\\end{pmatrix}=\n",
    "\\begin{pmatrix}\n",
    "y_1\\\\\n",
    "y_2\\\\\n",
    "\\vdots\\\\\n",
    "f(t, y_0, y_1,\\dots,y_{n-1})\\\\\n",
    "\\end{pmatrix}$$\n",
    "Zgornji izraz lahko zapišemo tudi vektorsko:\n",
    "$$\\mathbf{y}'=\\mathbf{f}(t, \\mathbf{y}).$$\n",
    "Če so dodatni pogoji $\\mathbf{y}(\\mathbf{a})=\\boldsymbol{\\alpha}$ vsi podani pri isti vrednosti $a_i=a$, potem govorimo o *začetnem*, sicer pa o *robnem problemu*. Tukaj si bomo najprej pogledali *začetni problem*."
   ]
  },
  {
   "cell_type": "markdown",
   "metadata": {},
   "source": [
    "### Analitični primer: masa na klancu"
   ]
  },
  {
   "cell_type": "markdown",
   "metadata": {},
   "source": [
    "Na sliki je prikazana masa $m$ na klancu naklona $\\alpha$. Koeficient trenja je $\\mu$, težnostni pospešek pa $g$. Začetna hitrost je $\\dot y(0)=v_0$.\n",
    "<img src=\"./fig/masa na klancu.png\" width=350>\n",
    "Gibalna enačba (samo za smer $y$) je definirana glede na II. Newtonov zakon (glejte diagram sil na prosto telo)."
   ]
  },
  {
   "cell_type": "markdown",
   "metadata": {},
   "source": [
    "#### Izpeljava gibalne enačbe"
   ]
  },
  {
   "cell_type": "code",
   "execution_count": 3,
   "metadata": {
    "collapsed": false
   },
   "outputs": [
    {
     "data": {
      "image/png": "[encoded data removed]",
      "text/latex": [
       "$$m \\frac{d^{2}}{d t^{2}}  y{\\left (t \\right )} = - g m \\mu \\cos{\\left (\\alpha \\right )} + g m \\sin{\\left (\\alpha \\right )}$$"
      ],
      "text/plain": [
       "    2                                   \n",
       "   d                                    \n",
       "m⋅───(y(t)) = -g⋅m⋅μ⋅cos(α) + g⋅m⋅sin(α)\n",
       "    2                                   \n",
       "  dt                                    "
      ]
     },
     "execution_count": 3,
     "metadata": {},
     "output_type": "execute_result"
    }
   ],
   "source": [
    "m, mu, g, alpha, y, t, v0 = symbols('m, mu, g, alpha, y, t, v0')\n",
    "eq = Eq(m*y(t).diff(t,2),  m*g*sin(alpha)-m*g*cos(alpha)*mu)\n",
    "eq"
   ]
  },
  {
   "cell_type": "markdown",
   "metadata": {},
   "source": [
    "Rešitev enačbe je:"
   ]
  },
  {
   "cell_type": "code",
   "execution_count": 5,
   "metadata": {
    "collapsed": false
   },
   "outputs": [
    {
     "data": {
      "image/png": "[encoded data removed]",
      "text/latex": [
       "$$y{\\left (t \\right )} = C_{1} + C_{2} t + \\frac{g t^{2}}{2} \\left(- \\mu \\cos{\\left (\\alpha \\right )} + \\sin{\\left (\\alpha \\right )}\\right)$$"
      ],
      "text/plain": [
       "                      2                     \n",
       "                   g⋅t ⋅(-μ⋅cos(α) + sin(α))\n",
       "y(t) = C₁ + C₂⋅t + ─────────────────────────\n",
       "                               2            "
      ]
     },
     "execution_count": 5,
     "metadata": {},
     "output_type": "execute_result"
    }
   ],
   "source": [
    "dsol = dsolve(eq, y(t))\n",
    "dsol"
   ]
  },
  {
   "cell_type": "markdown",
   "metadata": {},
   "source": [
    "Določimo začetne pogoje (pri času 0s smo v izhodišču koordinatnega sistema):"
   ]
  },
  {
   "cell_type": "code",
   "execution_count": 6,
   "metadata": {
    "collapsed": false
   },
   "outputs": [
    {
     "data": {
      "image/png": "[encoded data removed]",
      "text/latex": [
       "$$y{\\left (0 \\right )} = C_{1}$$"
      ],
      "text/plain": [
       "y(0) = C₁"
      ]
     },
     "execution_count": 6,
     "metadata": {},
     "output_type": "execute_result"
    }
   ],
   "source": [
    "dsol.subs(t, 0)"
   ]
  },
  {
   "cell_type": "code",
   "execution_count": 7,
   "metadata": {
    "collapsed": false
   },
   "outputs": [
    {
     "data": {
      "image/png": "[encoded data removed]",
      "text/latex": [
       "$$C_{2}$$"
      ],
      "text/plain": [
       "C₂"
      ]
     },
     "execution_count": 7,
     "metadata": {},
     "output_type": "execute_result"
    }
   ],
   "source": [
    "dsol.args[1].diff(t).subs(t, 0)"
   ]
  },
  {
   "cell_type": "code",
   "execution_count": 8,
   "metadata": {
    "collapsed": false
   },
   "outputs": [],
   "source": [
    "zacetni_pogoji = {'C1': 0, 'C2': v0}"
   ]
  },
  {
   "cell_type": "markdown",
   "metadata": {},
   "source": [
    "Sledi, da je rešitev:"
   ]
  },
  {
   "cell_type": "code",
   "execution_count": 9,
   "metadata": {
    "collapsed": false
   },
   "outputs": [
    {
     "data": {
      "image/png": "[encoded data removed]",
      "text/latex": [
       "$$\\frac{g t^{2}}{2} \\left(- \\mu \\cos{\\left (\\alpha \\right )} + \\sin{\\left (\\alpha \\right )}\\right) + t v_{0}$$"
      ],
      "text/plain": [
       "   2                            \n",
       "g⋅t ⋅(-μ⋅cos(α) + sin(α))       \n",
       "───────────────────────── + t⋅v₀\n",
       "            2                   "
      ]
     },
     "execution_count": 9,
     "metadata": {},
     "output_type": "execute_result"
    }
   ],
   "source": [
    "resitev = dsol.args[1].subs(zacetni_pogoji)\n",
    "resitev"
   ]
  },
  {
   "cell_type": "markdown",
   "metadata": {},
   "source": [
    "Prikažimo rezultate:"
   ]
  },
  {
   "cell_type": "code",
   "execution_count": 11,
   "metadata": {
    "collapsed": false
   },
   "outputs": [],
   "source": [
    "import numpy as np\n",
    "import matplotlib.pyplot as plt\n",
    "% matplotlib inline"
   ]
  },
  {
   "cell_type": "code",
   "execution_count": 12,
   "metadata": {
    "collapsed": false
   },
   "outputs": [
    {
     "data": {
      "image/png": "[encoded data removed]",
      "text/plain": [
       "<matplotlib.figure.Figure at 0x8d93f98>"
      ]
     },
     "metadata": {},
     "output_type": "display_data"
    }
   ],
   "source": [
    "podatki = {mu: 0.3, alpha: 15*np.pi/180, v0: 1., g: 9.81} #tukaj uporabimo np.pi, da imamo numerično vrednost\n",
    "cas = np.linspace(0, 4, 100)\n",
    "cas2 = np.linspace(0, 4, 5)\n",
    "pomik = [resitev.subs(podatki).evalf(subs={t: ca}) for ca in cas]\n",
    "hitrost = [resitev.diff(t).subs(podatki).evalf(subs={t: ca}) for ca in cas]\n",
    "pomik2 = [resitev.subs(podatki).evalf(subs={t: ca}) for ca in cas2]\n",
    "hitrost2 = [resitev.diff(t).subs(podatki).evalf(subs={t: ca}) for ca in cas2]\n",
    "plt.plot(cas, pomik, 'b', label='Pomik [m]')\n",
    "plt.plot(cas, hitrost, 'r', label='Hitrost [m/s]')\n",
    "plt.plot(cas2, pomik2, 'bo', label='Pomik - velik korak[m]')\n",
    "plt.plot(cas2, hitrost2, 'ro', label='Hitrost - velik korak [m/s]')\n",
    "plt.xlabel('Čas [s]')\n",
    "plt.legend(loc=(1.01, 0));"
   ]
  },
  {
   "cell_type": "markdown",
   "metadata": {},
   "source": [
    "#### Preoblikovanje diferencialne enačbe v sistem diferencialnih enačb prvega reda"
   ]
  },
  {
   "cell_type": "markdown",
   "metadata": {},
   "source": [
    "Spomnimo se izvorne diferencialne enačbe:"
   ]
  },
  {
   "cell_type": "code",
   "execution_count": 13,
   "metadata": {
    "collapsed": false
   },
   "outputs": [
    {
     "data": {
      "image/png": "[encoded data removed]",
      "text/latex": [
       "$$m \\frac{d^{2}}{d t^{2}}  y{\\left (t \\right )} = - g m \\mu \\cos{\\left (\\alpha \\right )} + g m \\sin{\\left (\\alpha \\right )}$$"
      ],
      "text/plain": [
       "    2                                   \n",
       "   d                                    \n",
       "m⋅───(y(t)) = -g⋅m⋅μ⋅cos(α) + g⋅m⋅sin(α)\n",
       "    2                                   \n",
       "  dt                                    "
      ]
     },
     "execution_count": 13,
     "metadata": {},
     "output_type": "execute_result"
    }
   ],
   "source": [
    "eq"
   ]
  },
  {
   "cell_type": "markdown",
   "metadata": {},
   "source": [
    "Definirajmo nove spremenljivke in pripravimo funkcijo $f$:"
   ]
  },
  {
   "cell_type": "code",
   "execution_count": 15,
   "metadata": {
    "collapsed": false
   },
   "outputs": [
    {
     "data": {
      "image/png": "[encoded data removed]",
      "text/latex": [
       "$$g \\left(- \\mu \\cos{\\left (\\alpha \\right )} + \\sin{\\left (\\alpha \\right )}\\right)$$"
      ],
      "text/plain": [
       "g⋅(-μ⋅cos(α) + sin(α))"
      ]
     },
     "execution_count": 15,
     "metadata": {},
     "output_type": "execute_result"
    }
   ],
   "source": [
    "y0, y1 = symbols('y:2')\n",
    "f = simplify(eq.args[1]/m)\n",
    "f"
   ]
  },
  {
   "cell_type": "markdown",
   "metadata": {},
   "source": [
    "Povežimo nove spremenljivke; $d y_0/dt$ naj bo enako $y_1$:"
   ]
  },
  {
   "cell_type": "code",
   "execution_count": 16,
   "metadata": {
    "collapsed": false
   },
   "outputs": [
    {
     "data": {
      "image/png": "[encoded data removed]",
      "text/latex": [
       "$$\\frac{d}{d t} \\operatorname{y_{0}}{\\left (t \\right )} = \\operatorname{y_{1}}{\\left (t \\right )}$$"
      ],
      "text/plain": [
       "d                \n",
       "──(y₀(t)) = y₁(t)\n",
       "dt               "
      ]
     },
     "execution_count": 16,
     "metadata": {},
     "output_type": "execute_result"
    }
   ],
   "source": [
    "eq1 = Eq(y0(t).diff(t), y1(t))\n",
    "eq1"
   ]
  },
  {
   "cell_type": "markdown",
   "metadata": {},
   "source": [
    "Naprej: odvod $d y_1/dt$ (v bistvu je to $y''$) naj bo enak funkciji $f$:"
   ]
  },
  {
   "cell_type": "code",
   "execution_count": 17,
   "metadata": {
    "collapsed": false
   },
   "outputs": [
    {
     "data": {
      "image/png": "[encoded data removed]",
      "text/latex": [
       "$$\\frac{d}{d t} \\operatorname{y_{1}}{\\left (t \\right )} = g \\left(- \\mu \\cos{\\left (\\alpha \\right )} + \\sin{\\left (\\alpha \\right )}\\right)$$"
      ],
      "text/plain": [
       "d                                 \n",
       "──(y₁(t)) = g⋅(-μ⋅cos(α) + sin(α))\n",
       "dt                                "
      ]
     },
     "execution_count": 17,
     "metadata": {},
     "output_type": "execute_result"
    }
   ],
   "source": [
    "eq2 = Eq(y1(t).diff(t), f)\n",
    "eq2"
   ]
  },
  {
   "cell_type": "markdown",
   "metadata": {},
   "source": [
    "Če sedaj zgornje izraze zapišemo v vektorski obliki:\n",
    "$$\\mathbf{y}'=\\mathbf{f}(t, \\mathbf{y}).$$"
   ]
  },
  {
   "cell_type": "code",
   "execution_count": 18,
   "metadata": {
    "collapsed": false
   },
   "outputs": [
    {
     "data": {
      "image/png": "[encoded data removed]",
      "text/latex": [
       "$$\\left [ \\frac{d}{d t} \\operatorname{y_{0}}{\\left (t \\right )}, \\quad \\frac{d}{d t} \\operatorname{y_{1}}{\\left (t \\right )}\\right ]$$"
      ],
      "text/plain": [
       "⎡d          d        ⎤\n",
       "⎢──(y₀(t)), ──(y₁(t))⎥\n",
       "⎣dt         dt       ⎦"
      ]
     },
     "execution_count": 18,
     "metadata": {},
     "output_type": "execute_result"
    }
   ],
   "source": [
    "y_odvod = [y0(t).diff(t), y1(t).diff(t)]\n",
    "y_odvod"
   ]
  },
  {
   "cell_type": "code",
   "execution_count": 19,
   "metadata": {
    "collapsed": false
   },
   "outputs": [
    {
     "data": {
      "image/png": "[encoded data removed]",
      "text/latex": [
       "$$\\left [ \\operatorname{y_{1}}{\\left (t \\right )}, \\quad g \\left(- \\mu \\cos{\\left (\\alpha \\right )} + \\sin{\\left (\\alpha \\right )}\\right)\\right ]$$"
      ],
      "text/plain": [
       "[y₁(t), g⋅(-μ⋅cos(α) + sin(α))]"
      ]
     },
     "execution_count": 19,
     "metadata": {},
     "output_type": "execute_result"
    }
   ],
   "source": [
    "f_vec = [y1(t), f]\n",
    "f_vec"
   ]
  },
  {
   "cell_type": "markdown",
   "metadata": {},
   "source": [
    "# Eulerjeva metoda"
   ]
  },
  {
   "cell_type": "markdown",
   "metadata": {},
   "source": [
    "(Eksplicitna) Eulerjeva metoda temelji na preprostem razvoju Taylorjeve vrste:\n",
    "$$\\mathbf{y}(t+h)=\\mathbf{y}(t)+\\mathbf{y}'(t)\\,h + \n",
    "\\mathcal{O}(h^2)$$"
   ]
  },
  {
   "cell_type": "markdown",
   "metadata": {},
   "source": [
    "Če zanemarimo odvode drugega in višjih redov, potem lahko ob znanih vrednostih $\\mathbf{y}(t)$ in odvodu $\\mathbf{y}'(t)$ ocenimo vrednosti pri $t+h$. Ko imamo enkrat znane vrednosti pri $t+h$, ponovimo postopek!"
   ]
  },
  {
   "cell_type": "markdown",
   "metadata": {},
   "source": [
    "Glede na zgornji razvoj Taylorjeve vrste, je napaka Eulerjeve metode na vsakem koraku reda $E=\\mathcal{O}(h^2)$. Ker na intervalu od $x_0$ do $x_n$ tako napako naredimo $n$ krat, je kumulativna napaka $n\\,E=n\\,\\mathcal{O}(h^2)=\\frac{t_n-t_0}{h}\\,\\mathcal{O}(h^2)=\\mathcal{O}(h)$."
   ]
  },
  {
   "cell_type": "markdown",
   "metadata": {},
   "source": [
    "Ker ocenjujemo vrednost pri $t+h$ glede na stanje pri $t$ zgornjo metodo štejemo med eksplicitne metode reševanja diferencialnih enačb. V kolikor bi tudi na desni strani imeli $t+h$, bi govorili o *implicitni Eulerjevi metodi*:\n",
    "$$\\mathbf{y}(t+h)=\\mathbf{y}(t)+\\mathbf{y}'(t+h)\\,h + \n",
    "\\mathcal{O}(h^2).$$\n",
    "Implicitni pristop je načeloma bolj enostaven, vendar zahteva iskanje ničle nelinearne enačbe."
   ]
  },
  {
   "cell_type": "markdown",
   "metadata": {},
   "source": [
    "## Numerična implementacija"
   ]
  },
  {
   "cell_type": "code",
   "execution_count": 20,
   "metadata": {
    "collapsed": false
   },
   "outputs": [],
   "source": [
    "def euler(F, t0, y, t_stop, h):\n",
    "    \"\"\"\n",
    "    Eulerjeva metoda za reševanje sistema diferencialnih enačb: y' = F(t, y)\n",
    "    \n",
    "    :param F:  funkcija, ki jo kličemo s parametroma t in y in vrne seznam \n",
    "               vrednosti prvega odvoda\n",
    "    :param t0: začetni čas\n",
    "    :param y:  seznam začetnih vrednosti\n",
    "    :param t_stop: čas, pri katerem reševanje prekinemo\n",
    "    :param h:  korak\n",
    "    :return [t, y]: vrne np.array ``t`` in ``y`` vrednosti.\n",
    "    \"\"\"\n",
    "    T = []\n",
    "    Y = []\n",
    "    t = t0\n",
    "    T.append(t)\n",
    "    Y.append(y)\n",
    "    while t < t_stop:\n",
    "        h = min(h, t_stop-t)\n",
    "        y = y + F(t, y)*h # tukaj je bistvo Eulerjeve metode\n",
    "        t = t + h\n",
    "        T.append(t)\n",
    "        Y.append(y)\n",
    "    return np.array(T), np.array(Y)"
   ]
  },
  {
   "cell_type": "markdown",
   "metadata": {},
   "source": [
    "Sedaj moramo seznam ``f_vec``, ki je definiran v simbolni obliki preoblikovati v klasično Python funkcijo, ki je primerna za numerično uporabo:"
   ]
  },
  {
   "cell_type": "code",
   "execution_count": 21,
   "metadata": {
    "collapsed": false
   },
   "outputs": [
    {
     "data": {
      "image/png": "[encoded data removed]",
      "text/latex": [
       "$$\\left [ \\operatorname{y_{1}}{\\left (t \\right )}, \\quad g \\left(- \\mu \\cos{\\left (\\alpha \\right )} + \\sin{\\left (\\alpha \\right )}\\right)\\right ]$$"
      ],
      "text/plain": [
       "[y₁(t), g⋅(-μ⋅cos(α) + sin(α))]"
      ]
     },
     "execution_count": 21,
     "metadata": {},
     "output_type": "execute_result"
    }
   ],
   "source": [
    "f_vec"
   ]
  },
  {
   "cell_type": "code",
   "execution_count": 23,
   "metadata": {
    "collapsed": false
   },
   "outputs": [],
   "source": [
    "def F_klada(t, y):\n",
    "    return np.array([y[1], podatki[g]*(-podatki[mu]*np.cos(podatki[alpha])+sin(podatki[alpha]))],dtype=float)"
   ]
  },
  {
   "cell_type": "markdown",
   "metadata": {},
   "source": [
    "Preverimo funkcijo pri začetnem času $t=0$s in pri začetnih pogoji $[y_0, y_1]=[0, v_0]$:"
   ]
  },
  {
   "cell_type": "code",
   "execution_count": 26,
   "metadata": {
    "collapsed": false
   },
   "outputs": [
    {
     "data": {
      "text/plain": [
       "array([ 0.,  1.])"
      ]
     },
     "execution_count": 26,
     "metadata": {},
     "output_type": "execute_result"
    }
   ],
   "source": [
    "y_zacetni_pogoji = np.array([0, podatki[v0]])\n",
    "y_zacetni_pogoji"
   ]
  },
  {
   "cell_type": "code",
   "execution_count": 27,
   "metadata": {
    "collapsed": false
   },
   "outputs": [
    {
     "data": {
      "text/plain": [
       "array([ 1.        , -0.30370487])"
      ]
     },
     "execution_count": 27,
     "metadata": {},
     "output_type": "execute_result"
    }
   ],
   "source": [
    "F_klada(0., y_zacetni_pogoji)"
   ]
  },
  {
   "cell_type": "markdown",
   "metadata": {},
   "source": [
    "Uporabino sedaj Eulerjevo metodo:"
   ]
  },
  {
   "cell_type": "code",
   "execution_count": 34,
   "metadata": {
    "collapsed": false
   },
   "outputs": [],
   "source": [
    "x_Eu, y_Eu = euler(F_klada, 0, np.array([0, 1.]), t_stop=4, h=1)"
   ]
  },
  {
   "cell_type": "markdown",
   "metadata": {},
   "source": [
    "Prikažemo in primerjamo z analitično rešitvijo:"
   ]
  },
  {
   "cell_type": "code",
   "execution_count": 35,
   "metadata": {
    "collapsed": false
   },
   "outputs": [
    {
     "data": {
      "image/png": "[encoded data removed]",
      "text/plain": [
       "<matplotlib.figure.Figure at 0xa5eaf98>"
      ]
     },
     "metadata": {},
     "output_type": "display_data"
    }
   ],
   "source": [
    "plt.plot(cas, pomik, 'b', label='Pomik - analitično [m]')\n",
    "plt.plot(cas, hitrost, 'r', label='Hitrost - analitično [m/s]')\n",
    "plt.plot(x_Eu, y_Eu[:, 0], 'b.', label='Pomik - Euler [m]')\n",
    "plt.plot(x_Eu, y_Eu[:, 1], 'r.', label='Hitrost - Euler [m/s]')\n",
    "plt.xlabel('Čas [s]')\n",
    "plt.legend(loc=(1.01, 0));"
   ]
  },
  {
   "cell_type": "markdown",
   "metadata": {},
   "source": [
    "# Metoda Runge-Kutta 2. reda"
   ]
  },
  {
   "cell_type": "markdown",
   "metadata": {},
   "source": [
    "Eulerjeva metoda je prvega reda saj je prvega reda tudi globalna napaka $\\mathcal{O}(h)$. Če bi želeli izpeljati red napake drugega reda, bi si morali pomagati z razvojem $\\mathbf{y}(t+h)$ v Taylorjevo vrsto, kjer bomo zanemarili tretji in višji odvod (lokalna napaka koraka bo tako reda 3, globalna pa reda 2):\n",
    "$$\\mathbf{y}(t+h)=\\mathbf{y}(t)+\\mathbf{y}'(t)\\,h + \\frac{1}{2}\\mathbf{y}''(t)\\,h^2.$$\n",
    "\n",
    "Uporabimo $\\mathbf{y}'(t)=\\mathbf{f}(t,\\mathbf{y})$ in $\\mathbf{y}''(t)=\\mathbf{f}'(t,\\mathbf{y})$:\n",
    "$$\\mathbf{y}(t+h)=\\mathbf{y}(t)+\\mathbf{f}(t,\\mathbf{y})\\,h + \\frac{1}{2}\\mathbf{f}'(t,\\mathbf{y})\\,h^2.$$\n",
    "\n",
    "Ker je vektor $\\mathbf{f}(t,\\mathbf{y})$ odvisen od neodvisne $t$ in odvisne spremenljivke $\\mathbf{y}$, moramo uporabiti pri odvajanju verižno pravilo:\n",
    "$$\\mathbf{f}'(t,\\mathbf{y})=\\frac{\\partial \\mathbf{f}}{\\partial t}+\\sum_i^{n-1}\\frac{\\partial \\mathbf{f}}{\\partial y_i}\\,\\underbrace{\\frac{\\partial y_i}{\\partial t}}_{y_i'}\n",
    "=\\frac{\\partial \\mathbf{f}}{\\partial t}+\\sum_i^{n-1}\\frac{\\partial \\mathbf{f}}{\\partial y_i}\\,{f_i(t, \\mathbf{y})},$$\n",
    "kjer smo indeks $i$ uporabili za zapis posamezne diferencialne enačbe prvega reda $y_i$.\n",
    "\n",
    "Končno lahko razvoj v Taylorjevo vrsto zapišemo:\n",
    "$$\\mathbf{y}(t+h)_{\\textrm{Taylor}}=\\mathbf{y}(t)+\\mathbf{f}(t,\\mathbf{y})\\,h + \\frac{1}{2}\\,{\\LARGE(}\n",
    "\\frac{\\partial \\mathbf{f}}{\\partial t}+\\sum_i^{n-1}\\frac{\\partial \\mathbf{f}}{\\partial y_i}\\,{f_i(t, \\mathbf{y})}\n",
    "{\\LARGE)}\\,h^2.$$"
   ]
  },
  {
   "cell_type": "markdown",
   "metadata": {},
   "source": [
    "Kakor je razvidno iz zgornjega izraza, potrebujemo dodatne odvode. To predstavlja določeno težavo, ki se ji lahko izognemo na različne načine; v nadaljevanji si bomo pogledali *Runge-Kutta* pristop."
   ]
  },
  {
   "cell_type": "markdown",
   "metadata": {},
   "source": [
    "#### Ideja Runge-Kutta pristopa"
   ]
  },
  {
   "cell_type": "markdown",
   "metadata": {},
   "source": [
    "Zgornjo dilemo metoda *Runge-Kutta* (razvita leta 1901) rešuje z idejo, ki smo jo sicer že srečali pri Gaussovi integraciji: rešitev poskuša najti s pravilno uteženo dodatno vrednostjo funkcije $\\mathbf{f}$:\n",
    "\n",
    "$$\\mathbf{y}(t+h)_{\\textrm{Runge-Kutta}}=\\mathbf{y}(t)+c_0\\,\\mathbf{f}\\left(t,\\mathbf{y}\\right)\\,h +c_1\n",
    "\\underbrace{\\mathbf{f}{\\large(}t+p\\,h,\\mathbf{y}+q\\,h\\,\\mathbf{f}(t,\\mathbf{y}){\\large)}}_{A}\\,h.$$"
   ]
  },
  {
   "cell_type": "markdown",
   "metadata": {},
   "source": [
    "Opomba: če bi v zgornjem izrazu uporabili $c_1=0$, bi izpeljali metodo prvega reda, ker pa uporabimo dodatno vrednost, bomo izpeljali metodo drugega reda. "
   ]
  },
  {
   "cell_type": "markdown",
   "metadata": {},
   "source": [
    "Iskanje neznanih konstant $c_0$, $c_1$, $p$, $q$ nadaljujemo z zapisom $A$ v obliki Taylorjeve vrste prvega reda:\n",
    "$$\\mathbf{f}{\\large(}t+p\\,h,\\mathbf{y}+q\\,h\\,\\mathbf{f}(t,\\mathbf{y}){\\large)}=\n",
    "\\underbrace{\n",
    "\\mathbf{f}{\\large(}t,\\mathbf{y}{\\large)}+\n",
    "\\frac{\\partial \\mathbf{f}}{\\partial t}\\,p\\,h+\n",
    "q\\,h\\,\\sum_i^{n-1}\\frac{\\partial \\mathbf{f}}{\\partial y_i}\\,f_i(t, \\mathbf{y})\n",
    "}_{A}$$"
   ]
  },
  {
   "cell_type": "markdown",
   "metadata": {},
   "source": [
    "Vstavimo sedaj izpeljani $A$ nazaj v izvorno idejo:\n",
    "$$\\mathbf{y}(t+h)_{\\textrm{Runge-Kutta}}=\\mathbf{y}(t)+c_0\\,\\mathbf{f}\\left(t,\\mathbf{y}\\right)\\,h +c_1\n",
    "{\\LARGE(}\n",
    "\\mathbf{f}{\\large(}t,\\mathbf{y}{\\large)}+\n",
    "\\frac{\\partial \\mathbf{f}}{\\partial t}\\,p\\,h+\n",
    "q\\,h\\,\\sum_i^{n-1}\\frac{\\partial \\mathbf{f}}{\\partial y_i}\\,f_i(t, \\mathbf{y})\n",
    "{\\LARGE)}\n",
    "\\,h.$$\n",
    "Sedaj enačbo preoblikujemo, da bo podobna zgoraj izpeljani s Taylorjevo vrsto $\\mathbf{y}(t+h)_{\\textrm{Taylor}}$:"
   ]
  },
  {
   "cell_type": "markdown",
   "metadata": {},
   "source": [
    "$$\\mathbf{y}(t+h)_{\\textrm{Runge-Kutta}}=\\mathbf{y}(t)+(c_0+c1)\\,\\mathbf{f}\\left(t,\\mathbf{y}\\right)\\,h +\\frac{1}{2}\n",
    "{\\LARGE(}\n",
    "\\frac{\\partial \\mathbf{f}}{\\partial t}\\,2\\,c_1\\,p+\n",
    "2\\,c_1\\,q\\,\\sum_i^{n-1}\\frac{\\partial \\mathbf{f}}{\\partial y_i}\\,f_i(t, \\mathbf{y})\n",
    "{\\LARGE)}\n",
    "\\,h^2.$$\n"
   ]
  },
  {
   "cell_type": "markdown",
   "metadata": {},
   "source": [
    "Primerjamo sedaj z zgoraj izpeljanim izrazom:\n",
    "$$\\mathbf{y}(t+h)_{\\textrm{Taylor}}=\\mathbf{y}(t)+\\mathbf{f}(t,\\mathbf{y})\\,h + \\frac{1}{2}\\,{\\LARGE(}\n",
    "\\frac{\\partial \\mathbf{f}}{\\partial t}+\\sum_i^{n-1}\\frac{\\partial \\mathbf{f}}{\\partial y_i}\\,{f_i(t, \\mathbf{y})}\n",
    "{\\LARGE)}\\,h^2.$$\n"
   ]
  },
  {
   "cell_type": "markdown",
   "metadata": {},
   "source": [
    "In ugotovimo, da za enakost mora veljati:\n",
    "$$c_0+c_1=1,\\qquad 2\\,c_1\\,p=1,\\qquad 2\\,c_1\\,q=1.$$\n",
    "Imamo torej tri enačbe in štiri neznanke. Eno od konstant si tako lahko poljubno izmislimo in s tem definiramo ostale tri. Če si na primer izmislimo $c_0=0$, bi to imenovali *spremenjena Eulerjeva metoda* in bi ostali parametri bili: $c_1=1$, $p=q=1/2$. Izbira parametrov nima bistvenega vpliva; Runge-Kutta metodo drugega reda tudi zelo redko uporabljamo; tukaj smo si jo pogledal predvsem zato, da smo spoznali postopek."
   ]
  },
  {
   "cell_type": "markdown",
   "metadata": {},
   "source": [
    "# Metoda Runge-Kutta 4. reda"
   ]
  },
  {
   "cell_type": "markdown",
   "metadata": {},
   "source": [
    "Pri metodi Runge-Kutta 2. reda smo spoznali postopek, ki je v principu enak tudi postopku pri metodi 4.reda. Ker pa je ta postopek tukaj bistveno bolj zahteven, si podrobnosti ne bomo pogledali.\n",
    "\n",
    "Tudi pri metodi Runge-Kutta 4.reda rešitev na koncu ni popolnoma določena; Runge-Kutta 4. reda tipično definiramo kot:"
   ]
  },
  {
   "cell_type": "markdown",
   "metadata": {},
   "source": [
    "$$\\mathbf{y}(t+h)_{\\textrm{Runge-Kutta 4}}=\\mathbf{y}(t)+\\frac{1}{6}(\\mathbf{k}_0+2\\,\\mathbf{k}_1+2\\,\\mathbf{k}_2+\\mathbf{k}_3),$$\n",
    "kjer so vektorji konstant:\n",
    "$$\\begin{align}\n",
    "\\mathbf{k}_0&=h\\,\\mathbf{f}(t,\\mathbf{y})\\\\\n",
    "\\mathbf{k}_1&=h\\,\\mathbf{f}\\left(t+\\frac{h}{2},\\mathbf{y}+\\frac{\\mathbf{k}_0}{2}\\right)\\\\\n",
    "\\mathbf{k}_2&=h\\,\\mathbf{f}\\left(t+\\frac{h}{2},\\mathbf{y}+\\frac{\\mathbf{k}_1}{2}\\right)\\\\\n",
    "\\mathbf{k}_3&=h\\,\\mathbf{f}\\left(t+h,\\mathbf{y}+\\mathbf{k}_2\\right)\n",
    "\\end{align}\n",
    "$$"
   ]
  },
  {
   "cell_type": "markdown",
   "metadata": {},
   "source": [
    "## Numerična implementacija"
   ]
  },
  {
   "cell_type": "code",
   "execution_count": 36,
   "metadata": {
    "collapsed": false
   },
   "outputs": [],
   "source": [
    "def runge_kutta_4(F, t0, y, t_stop, h):\n",
    "    \"\"\"\n",
    "    Eulerjeva metoda za reševanje sistema diferencialnih enačb: y' = F(t, y)\n",
    "    \n",
    "    :param F:  funkcija, ki jo kličemo s parametroma t in y in vrne seznam \n",
    "               vrednosti prvega odvoda\n",
    "    :param t0: začetni čas\n",
    "    :param y:  seznam začetnih vrednosti\n",
    "    :param t_stop: čas, pri katerem reševanje prekinemo\n",
    "    :param h:  korak\n",
    "    :return [t, y]: vrne np.array ``t`` in ``y`` vrednosti.\n",
    "    \"\"\"\n",
    "    def RK4(F, t, y, h):\n",
    "        k0 = h*F(t, y)\n",
    "        k1 = h*F(t + h/2.0, y + k0/2.0)\n",
    "        k2 = h*F(t + h/2.0, y + k1/2.0)\n",
    "        k3 = h*F(t + h, y + k2)\n",
    "        return (k0 + 2.0*k1 + 2.0*k2 + k3)/6.0\n",
    "    \n",
    "    T = []\n",
    "    Y = []\n",
    "    t = t0\n",
    "    T.append(t)\n",
    "    Y.append(y)\n",
    "    while t < t_stop:\n",
    "        h = min(h, t_stop-t)\n",
    "        y = y + RK4(F, t, y, h)\n",
    "        t = t + h\n",
    "        T.append(t)\n",
    "        Y.append(y)\n",
    "    return np.array(T), np.array(Y)"
   ]
  },
  {
   "cell_type": "code",
   "execution_count": 37,
   "metadata": {
    "collapsed": false
   },
   "outputs": [],
   "source": [
    "#%%timeit\n",
    "x_RK4, y_RK4 = runge_kutta_4(F_klada, 0, y_zacetni_pogoji, t_stop=4, h=1)"
   ]
  },
  {
   "cell_type": "code",
   "execution_count": 41,
   "metadata": {
    "collapsed": false
   },
   "outputs": [
    {
     "data": {
      "image/png": "[encoded data removed]",
      "text/plain": [
       "<matplotlib.figure.Figure at 0x8d7ed30>"
      ]
     },
     "metadata": {},
     "output_type": "display_data"
    }
   ],
   "source": [
    "plt.plot(cas, pomik, 'b', label='Pomik - analitično [m]')\n",
    "plt.plot(cas, hitrost, 'r', label='Hitrost - analitično [m/s]')\n",
    "#plt.plot(x_Eu, y_Eu[:, 0], 'b.', label='Pomik - Euler [m]')\n",
    "#plt.plot(x_Eu, y_Eu[:, 1], 'r.', label='Hitrost - Euler [m/s]')\n",
    "plt.plot(x_RK4, y_RK4[:, 0], 'bo', label='Pomik - RK4 [m]')\n",
    "plt.plot(x_RK4, y_RK4[:, 1], 'ro', label='Hitrost - RK4 [m/s]')\n",
    "plt.xlabel('Čas [s]')\n",
    "plt.legend(loc=(1.01, 0));"
   ]
  },
  {
   "cell_type": "markdown",
   "metadata": {},
   "source": [
    "# Uporaba ``scipy.integrate.ode``"
   ]
  },
  {
   "cell_type": "markdown",
   "metadata": {},
   "source": [
    "Scipy ima v okviru ``scipy.integrate.ode`` implementiranih več različnih algoritmov za reševanje diferencialnih enačb. Tukaj si bomo podrobneje pogledali najprej različico metode *Runge-Kutta* 4(5) reda. Gre za tako imenovano Dormand–Prince metodo (oznaka ``dopri5``), ki izračuna korak z redom natančnosti 4 in 5 ter razliko uporabi za oceno napake metode 4. reda; napako potem izkoristi za prilagajanje velikosti koraka. Ta metoda je med najpogosteje uporabljenimi. Nekaj več informacij najdete tukaj: http://en.wikipedia.org/wiki/Dormand%E2%80%93Prince_method."
   ]
  },
  {
   "cell_type": "code",
   "execution_count": 42,
   "metadata": {
    "collapsed": false
   },
   "outputs": [],
   "source": [
    "from scipy.integrate import ode"
   ]
  },
  {
   "cell_type": "code",
   "execution_count": 43,
   "metadata": {
    "collapsed": false
   },
   "outputs": [],
   "source": [
    "#%%timeit #poskusite iniciacijo ode dati ven in izmerite hitrost samega reševanja!\n",
    "solver = ode(F_klada).set_integrator('dopri5').set_initial_value(y_zacetni_pogoji)\n",
    "t1 = 4\n",
    "dt = 1.\n",
    "x_RK4_sci = [0]\n",
    "y_RK4_sci = [y_zacetni_pogoji]\n",
    "while solver.successful() and solver.t < t1:\n",
    "    solver.integrate(solver.t+dt)\n",
    "    x_RK4_sci.append(solver.t)\n",
    "    y_RK4_sci.append(solver.y)\n",
    "x_RK4_sci = np.array(x_RK4_sci)\n",
    "y_RK4_sci = np.array(y_RK4_sci)"
   ]
  },
  {
   "cell_type": "code",
   "execution_count": 44,
   "metadata": {
    "collapsed": false
   },
   "outputs": [
    {
     "data": {
      "image/png": "[encoded data removed]",
      "text/plain": [
       "<matplotlib.figure.Figure at 0xa571630>"
      ]
     },
     "metadata": {},
     "output_type": "display_data"
    }
   ],
   "source": [
    "plt.plot(cas, pomik, 'b', label='Pomik - analitično [m]')\n",
    "plt.plot(cas, hitrost, 'r', label='Hitrost - analitično [m/s]')\n",
    "#plt.plot(x_Eu, y_Eu[:, 0], 'b.', label='Pomik - Euler [m]')\n",
    "#plt.plot(x_Eu, y_Eu[:, 1], 'r.', label='Hitrost - Euler [m/s]')\n",
    "plt.plot(x_RK4, y_RK4[:, 0], 'b.', label='Pomik - RK4 [m]')\n",
    "plt.plot(x_RK4, y_RK4[:, 1], 'r.', label='Hitrost - RK4 [m/s]')\n",
    "plt.plot(x_RK4_sci, y_RK4_sci[:, 0], 'bo', label='Pomik - RK4 sci [m]')\n",
    "plt.plot(x_RK4_sci, y_RK4_sci[:, 1], 'ro', label='Hitrost - RK4 sci [m/s]')\n",
    "plt.xlabel('Čas [s]')\n",
    "plt.legend(loc=(1.01, 0));"
   ]
  },
  {
   "cell_type": "markdown",
   "metadata": {},
   "source": [
    "# Stabilnost reševanja diferencialnih enačb"
   ]
  },
  {
   "cell_type": "markdown",
   "metadata": {},
   "source": [
    "Preprosto povedano, je reševanje diferencialne enačbe stabilno, če se lokalne napake ne seštevajo v globalno napako, ki preraste vse meje. Globalna napaka torej mora ostati omejena. Stabilnost je pogojena z diferencialno enačbo, z uporabljeno numerično metodo in s korakom integracije $h$.\n",
    "\n",
    "V nadaljevanju si bomo na primerih pogledali nekatere detajle."
   ]
  },
  {
   "cell_type": "markdown",
   "metadata": {},
   "source": [
    "## Primer preprostega nihala"
   ]
  },
  {
   "cell_type": "markdown",
   "metadata": {},
   "source": [
    "Poglejmo si najprej primer reševanja diferencialne enačbe preprostega nihala. Slika (vir: Slavič, 2014) prikazuje dinamski sistem (masa $m$, togost $k$) katerega diferencialna enačba je:\n",
    "$$m\\,\\ddot x + k\\,x=0$$\n",
    "<img src=\"./fig/Slavič - slika 3.6.png\" width=150>\n",
    "Diferencialna enačba lastnega nihanja v standardni obliki:\n",
    "$$\\ddot x + \\omega_0^2\\,x=0$$\n",
    "kjer je lastna krožna frekvenca:\n",
    "$$\\omega_0=\\sqrt{\\frac{k}{m}}$$\n",
    "in pričakujemo odziv oblike:\n",
    "$$x(t)=A\\,\\cos(\\omega_0\\,t)+B\\,\\sin(\\omega_0\\,t)$$\n",
    "\n",
    "Če so začetni pogoji enaki: $x(0\\,\\textrm{s})=x_0$ in $\\dot x(0\\,\\textrm{s})=0\\,\\textrm{m/s}$, potem odziv pričakujemo v obliki:\n",
    "$$x(t)=x_0\\,\\cos(\\omega_0\\,t)$$"
   ]
  },
  {
   "cell_type": "markdown",
   "metadata": {},
   "source": [
    "#### Numerični primer"
   ]
  },
  {
   "cell_type": "markdown",
   "metadata": {},
   "source": [
    "Najprej definirajmo vektor začetnih pogojev in funkcijo prvih odvodov (diferencialno enačbo drugega reda pretvorimo v sistem diferencialnih enačb prvega reda $\\mathbf{y}'=\\mathbf{f}(x, \\mathbf{y})$)"
   ]
  },
  {
   "cell_type": "code",
   "execution_count": 46,
   "metadata": {
    "collapsed": false
   },
   "outputs": [],
   "source": [
    "def F_nihalo(t, y, omega0=2*np.pi):\n",
    "    \"\"\"\n",
    "    Funkcija prvih odvodov za nihalo z eno prostostno stopnjo\n",
    "    \n",
    "    :param t: čas\n",
    "    :param y: seznam začetnih vrednosti\n",
    "    :param omega: lastna krožna frekvenca\n",
    "    :return y': seznam vrednosti odvodov\n",
    "    \"\"\"\n",
    "    return np.array([y[1], -omega0**2*y[0]])"
   ]
  },
  {
   "cell_type": "markdown",
   "metadata": {},
   "source": [
    "Podatki, analitčna rešitev, Eulerjeva metoda in metoda Runge-Kutta 4. reda:"
   ]
  },
  {
   "cell_type": "code",
   "execution_count": 78,
   "metadata": {
    "collapsed": false
   },
   "outputs": [],
   "source": [
    "x0 = 1.\n",
    "omega0 = 2*np.pi\n",
    "x_zacetni_pogoji = np.array([x0, 0.])\n",
    "dt = 0.5\n",
    "t1 = 4.\n",
    "\n",
    "cas = np.linspace(0, t1, 500)\n",
    "pomik = x0*np.cos(omega0*cas)\n",
    "hitrost = -x0*omega0*np.sin(omega0*cas)\n",
    "t_Eu, x_Eu = euler(F_nihalo, 0, x_zacetni_pogoji, t_stop=t1, h=dt)\n",
    "t_RK4, x_RK4 = runge_kutta_4(F_nihalo, 0, x_zacetni_pogoji, t_stop=t1, h=dt)"
   ]
  },
  {
   "cell_type": "markdown",
   "metadata": {},
   "source": [
    "Rešitev po RK45 metodi:"
   ]
  },
  {
   "cell_type": "code",
   "execution_count": 79,
   "metadata": {
    "collapsed": false
   },
   "outputs": [],
   "source": [
    "#%%timeit -n 1\n",
    "solver = ode(F_nihalo).set_integrator('dopri5').set_initial_value(x_zacetni_pogoji)\n",
    "solver.set_f_params(omega0)\n",
    "t_RK4_sci = [0]\n",
    "x_RK4_sci = [x_zacetni_pogoji]\n",
    "while solver.successful() and solver.t < t1:\n",
    "    solver.integrate(solver.t+dt)\n",
    "    t_RK4_sci.append(solver.t)\n",
    "    x_RK4_sci.append(solver.y)\n",
    "t_RK4_sci = np.array(t_RK4_sci)\n",
    "x_RK4_sci = np.array(x_RK4_sci)"
   ]
  },
  {
   "cell_type": "markdown",
   "metadata": {},
   "source": [
    "Rešitev po implicitni metodi tipa Adams:"
   ]
  },
  {
   "cell_type": "code",
   "execution_count": 80,
   "metadata": {
    "collapsed": false
   },
   "outputs": [],
   "source": [
    "#%%timeit -n 1\n",
    "solver = ode(F_nihalo).set_integrator('lsoda').set_initial_value(x_zacetni_pogoji)\n",
    "solver.set_f_params(omega0)\n",
    "t_imp_sci = [0]\n",
    "x_imp_sci = [x_zacetni_pogoji]\n",
    "while solver.successful() and solver.t < t1:\n",
    "    solver.integrate(solver.t+dt)\n",
    "    t_imp_sci.append(solver.t)\n",
    "    x_imp_sci.append(solver.y)\n",
    "t_imp_sci = np.array(t_imp_sci)\n",
    "x_imp_sci = np.array(x_imp_sci)"
   ]
  },
  {
   "cell_type": "code",
   "execution_count": 81,
   "metadata": {
    "collapsed": false
   },
   "outputs": [
    {
     "data": {
      "image/png": "[encoded data removed]",
      "text/plain": [
       "<matplotlib.figure.Figure at 0x8db32e8>"
      ]
     },
     "metadata": {},
     "output_type": "display_data"
    }
   ],
   "source": [
    "plt.plot(cas, pomik, 'r', label='Pomik - analitično [m]')\n",
    "#plt.plot(t_Eu[:7], x_Eu[:7, 0], 'ro', label='Pomik - Euler [m] - začetek')\n",
    "#plt.plot(t_Eu, x_Eu[:, 0], 'bx', label='Pomik - Euler [m]')\n",
    "#plt.plot(t_RK4, x_RK4[:, 0], 'ro', label='Pomik - RK4 [m]')\n",
    "plt.plot(t_RK4_sci, x_RK4_sci[:, 0], 'bo', label='Pomik - RK4 sci [m]')\n",
    "#plt.plot(t_imp_sci, x_imp_sci[:, 0], 'g.', label='Pomik - Imp sci [m]')\n",
    "plt.xlabel('Čas [s]')\n",
    "plt.legend(loc=(1.01, 0));"
   ]
  },
  {
   "cell_type": "markdown",
   "metadata": {},
   "source": [
    "#### Zakaj je Eulerjeva metoda tako nestabilna?"
   ]
  },
  {
   "cell_type": "code",
   "execution_count": 82,
   "metadata": {
    "collapsed": false
   },
   "outputs": [
    {
     "data": {
      "text/plain": [
       "array([  1.00000000e+00,   1.00000000e+00,  -8.86960440e+00,\n",
       "        -2.86088132e+01,   3.91914646e+01,   3.89349411e+02,\n",
       "         3.52703106e+02,  -3.52666786e+03,  -1.08870790e+04])"
      ]
     },
     "execution_count": 82,
     "metadata": {},
     "output_type": "execute_result"
    }
   ],
   "source": [
    "x_Eu[:10,0]"
   ]
  },
  {
   "cell_type": "markdown",
   "metadata": {},
   "source": [
    "Spomnimo se temeljnega izraza Eulerjeve metode:\n",
    "$$y(t+h)=y(t)+y'(t)\\,h.$$\n",
    "\n",
    "Sedaj razumemo, da v prvi točki ($y'(0)=0$) naredimo relativno veliko napako, vendar zakaj potem začne vrednost alternirajoče naraščati?\n",
    "\n",
    "Spomnimo se, da je analitična rešitev $y(t)=y_0=x(t)=x_0\\,\\cos(\\omega_0\\,t)$ in je torej $y'(t)=y_1=\\dot x(t)=-\\omega_0\\,x_0\\,\\sin(\\omega_0\\,t)$. Vstavimo pripravljena izraza v Eulerjevo metodo in uredimo:\n",
    "$$y(t+h)=y(t)+y'(t)\\,h=x_0\\,\\left(\\cos(\\omega_0\\,t)-\\omega_0\\,h\\,\\sin(\\omega_0\\,t)\\right)$$\n",
    "\n",
    "Predpostavimo, da gledamo stanje ob takem času $t$, da velja $\\cos(\\omega_0\\,t)=0$ in $\\sin(\\omega_0\\,t)=1$:\n",
    "$$y(t+h)=x_0\\,\\underbrace{\\left(-\\omega_0\\,h\\right)}_{A}.$$\n",
    "V kolikor bo absolutna vrednost izraza $A$ večja kot 1, bo pri času $t+h$ vrednost večja kot v predhodnem koraku in v sledečem verjetno spet. Sledi, da lahko pride do nestabilnosti. Da se je izognemo, mora veljati:\n",
    "$$|A|<1\\qquad\\rightarrow\\qquad h<\\frac{1}{\\omega_0}$$\n",
    "\n",
    "Opomba: v nekaterih knjigah boste videli tudi vrednost $h<2/\\omega_0$; enoliče meje za vse diferencialne enačbe ni mogoče definirati; v splošnem pa velja, da je korak definiran relativno glede na najkrajšo periodo $T$ v diferencialni enačbi (npr.: $h<2/\\omega_0$ je v bistvu enako $h<2/(2\\pi/T)$ oziroma $h<T/\\pi$). Perioda $T$ je definirana glede na najvišjo lastno frekvenco sistema $T=1/f_{\\textrm{max}}$, ki jo izračunamo iz lastne vrednosti sistema.\n",
    "\n",
    "Kakor je prikazano zgoraj imajo naprednejše metode reševanje diferencialnih enačb (npr. Dormand in Prince Runge-Kutta metoda) vgrajen adaptiven časovni korak, ki ponavadi zagotavlja stabilno rešitev. Implicitne metode so načeloma bolj stabilne, vendar pa je cena večja numerična zahtevnost."
   ]
  },
  {
   "cell_type": "markdown",
   "metadata": {},
   "source": [
    "## Primer Van der Polovega nihala"
   ]
  },
  {
   "cell_type": "markdown",
   "metadata": {},
   "source": [
    "http://en.wikipedia.org/wiki/Van_der_Pol_oscillator"
   ]
  },
  {
   "cell_type": "markdown",
   "metadata": {},
   "source": [
    "Definirajmo seznam odvodov:"
   ]
  },
  {
   "cell_type": "code",
   "execution_count": 83,
   "metadata": {
    "collapsed": false
   },
   "outputs": [],
   "source": [
    "def F_van_der_pol(t, y, mu=1000):\n",
    "    \"\"\"\n",
    "    Funkcija prvih odvodov za Van der Pol nihalo\n",
    "    \n",
    "    :param t: čas\n",
    "    :param y: seznam začetnih vrednosti\n",
    "    :param mu: parameter dušenja in nelinearnosti\n",
    "    :return y': seznam vrednosti odvodov\n",
    "    \"\"\"\n",
    "    return np.array([y[1], mu*(1-y[0]**2)*y[1]-y[0]])"
   ]
  },
  {
   "cell_type": "code",
   "execution_count": 84,
   "metadata": {
    "collapsed": false
   },
   "outputs": [],
   "source": [
    "x_zacetni_pogoji = np.array([1.5, 0.])\n",
    "dt = 0.01\n",
    "t1 = 3000"
   ]
  },
  {
   "cell_type": "markdown",
   "metadata": {},
   "source": [
    "Rešitev po RK45 metodi:"
   ]
  },
  {
   "cell_type": "code",
   "execution_count": 91,
   "metadata": {
    "collapsed": true
   },
   "outputs": [
    {
     "name": "stdout",
     "output_type": "stream",
     "text": [
      "1 loops, best of 3: 7.16 s per loop\n"
     ]
    }
   ],
   "source": [
    "%%timeit\n",
    "solver = ode(F_van_der_pol).set_integrator('dopri5').set_initial_value(x_zacetni_pogoji)\n",
    "t_RK4_sci = [0]\n",
    "x_RK4_sci = [x_zacetni_pogoji]\n",
    "while solver.successful() and solver.t < t1/6:\n",
    "    solver.integrate(solver.t+dt)\n",
    "    t_RK4_sci.append(solver.t)\n",
    "    x_RK4_sci.append(solver.y)\n",
    "t_RK4_sci = np.array(t_RK4_sci)\n",
    "x_RK4_sci = np.array(x_RK4_sci)"
   ]
  },
  {
   "cell_type": "markdown",
   "metadata": {},
   "source": [
    "Rešitev po implicitni metodi tipa Adams"
   ]
  },
  {
   "cell_type": "code",
   "execution_count": 92,
   "metadata": {
    "collapsed": false
   },
   "outputs": [
    {
     "name": "stdout",
     "output_type": "stream",
     "text": [
      "1 loops, best of 3: 2.84 s per loop\n"
     ]
    }
   ],
   "source": [
    "%%timeit\n",
    "solver = ode(F_van_der_pol).set_integrator('lsoda').set_initial_value(x_zacetni_pogoji)\n",
    "t_imp_sci = [0]\n",
    "x_imp_sci = [x_zacetni_pogoji]\n",
    "while solver.successful() and solver.t < t1:\n",
    "    solver.integrate(solver.t+dt)\n",
    "    t_imp_sci.append(solver.t)\n",
    "    x_imp_sci.append(solver.y)\n",
    "t_imp_sci = np.array(t_imp_sci)\n",
    "x_imp_sci = np.array(x_imp_sci)\n",
    "solver.successful()"
   ]
  },
  {
   "cell_type": "code",
   "execution_count": 90,
   "metadata": {
    "collapsed": false
   },
   "outputs": [
    {
     "data": {
      "image/png": "[encoded data removed]",
      "text/plain": [
       "<matplotlib.figure.Figure at 0xa539f28>"
      ]
     },
     "metadata": {},
     "output_type": "display_data"
    }
   ],
   "source": [
    "plt.plot(t_RK4_sci, x_RK4_sci[:, 0], 'b.', label='Pomik - RK4 sci [m]')\n",
    "plt.plot(t_imp_sci, x_imp_sci[:, 0], 'g-', label='Pomik - Imp sci [m]')\n",
    "plt.xlabel('Čas [s]')\n",
    "plt.legend(loc=(1.01, 0));"
   ]
  },
  {
   "cell_type": "markdown",
   "metadata": {},
   "source": [
    "# Do naslednjih vaj preštudirajte sledeče:"
   ]
  },
  {
   "cell_type": "markdown",
   "metadata": {},
   "source": [
    "1. Na sliki (vir: Numerical Methods in Engineering With Python 3, 3rd Ed, Jaan Kiusalaas) je prikazan izstrelek mase $m$, ki ga izstrelimo s hitrosjo $v_0$ pod kotom $\\alpha$. Če je sila upora zraka: $F=c\\,v^{3/2}$, potem sta gibalni enačbi:\n",
    "$$\\ddot x(t)=-F\\,\\cos(\\alpha)\\qquad\\ddot y(t)=-F\\,\\sin(\\alpha)-g.$$\n",
    "Opomba: $v=\\sqrt{\\dot x^2+\\dot y^2}.$ Ustrezne parametre si izmislite.\n",
    "<img src=\"./fig/Jaan Kiusalaas stran 265 n13.png\" width=300>\n",
    "Sistem dveh diferencialnih enačb drugega reda zapišite v sistem diferencialnih enačb prvega reda.\n",
    "* Določite vektor začetnih pogojev, ki smo ga zgoraj označili z $\\mathbf{y}$.\n",
    "* Določite funkcijo prvih odvodov, ``c`` naj bo parameter.\n",
    "* Definirajte začetne pogoje in rešite nalogo s poljubnimi podatki.\n",
    "* Prikažite $(x, y)$ lego masne točke, spreminjajte koeficient upora $c$.\n",
    "* Prikažite hitrost v odvisnosti od časa. Določite minimum hitrosti in čas pri katerem nastane.\n",
    "* Na vaje prinesite poljubno diferencialno enačbo in bodite pripravljeni na numerično reševanje!"
   ]
  },
  {
   "cell_type": "markdown",
   "metadata": {},
   "source": [
    "Delno rešene vaje se nahajajo [tukaj](./vaje/Vaja 12 - polovica.ipynb)."
   ]
  }
 ],
 "metadata": {
  "kernelspec": {
   "display_name": "Python 3",
   "language": "python",
   "name": "python3"
  },
  "language_info": {
   "codemirror_mode": {
    "name": "ipython",
    "version": 3
   },
   "file_extension": ".py",
   "mimetype": "text/x-python",
   "name": "python",
   "nbconvert_exporter": "python",
   "pygments_lexer": "ipython3",
   "version": "3.4.3"
  }
 },
 "nbformat": 4,
 "nbformat_minor": 0
}
