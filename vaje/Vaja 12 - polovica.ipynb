{
 "cells": [
  {
   "cell_type": "markdown",
   "metadata": {},
   "source": [
    "Maj 2015, J. Slavič in L. Knez"
   ]
  },
  {
   "cell_type": "code",
   "execution_count": 1,
   "metadata": {
    "collapsed": false
   },
   "outputs": [],
   "source": [
    "# Uvozimo potrebne module\n",
    "\n",
    "from sympy import *\n",
    "init_printing()\n",
    "import numpy as np\n",
    "import matplotlib.pyplot as plt\n",
    "%matplotlib inline"
   ]
  },
  {
   "cell_type": "markdown",
   "metadata": {},
   "source": [
    "Vprašanje 1: Na sliki (vir: Numerical Methods in Engineering With Python 3, 3rd Ed, Jaan Kiusalaas) je prikazan izstrelek mase $m$, ki ga izstrelimo s hitrosjo $v_0$ pod kotom $\\alpha$. Če je sila upora zraka: $F=c\\,v^{3/2}$, potem sta gibalni enačbi:\n",
    "$$\\ddot x(t)=-F\\,\\cos(\\alpha)\\qquad\\ddot y(t)=-F\\,\\sin(\\alpha)-g.$$\n",
    "Opomba: $v=\\sqrt{\\dot x^2+\\dot y^2}.$ Ustrezne parametre si izmislite.\n",
    "<img src=\"../fig/Jaan Kiusalaas stran 265 n13.png\" width=300>\n",
    "Sistem dveh diferencialnih enačb drugega reda zapišite v sistem diferencialnih enačb prvega reda."
   ]
  },
  {
   "cell_type": "markdown",
   "metadata": {},
   "source": [
    "Glejte odgovor pod vprašanje 3."
   ]
  },
  {
   "cell_type": "markdown",
   "metadata": {},
   "source": [
    "Vprašanje 2: Določite vektor začetnih pogojev, ki smo ga zgoraj označili z $\\mathbf{y}$."
   ]
  },
  {
   "cell_type": "code",
   "execution_count": 2,
   "metadata": {
    "collapsed": false
   },
   "outputs": [],
   "source": [
    "# Paramatre si ustrezno izmislimo\n",
    "v0=200\n",
    "alpha = 30*np.pi/180\n",
    "dt = 0.01\n",
    "y_zacetni_pogoji = np.array([0, v0*np.cos(alpha), 0, v0*np.sin(alpha)])"
   ]
  },
  {
   "cell_type": "markdown",
   "metadata": {},
   "source": [
    "Vprašanje 3: Določite funkcijo prvih odvodov, ``c`` naj bo parameter."
   ]
  },
  {
   "cell_type": "markdown",
   "metadata": {},
   "source": [
    "Odgovor za vprašanji 1 in 3 smo združili. Sistem enačb zapišemo v funkcijo:"
   ]
  },
  {
   "cell_type": "code",
   "execution_count": 3,
   "metadata": {
    "collapsed": false
   },
   "outputs": [],
   "source": [
    "def F(t, y, c=0.5):\n",
    "    # y = [x0, x1, y0, y1]\n",
    "    g = 9.81\n",
    "    v = np.sqrt(y[1]**2+y[3]**2)\n",
    "    F = c*v**(3/2)\n",
    "    a = np.arctan2(y[3],y[1])  # Kot dobimo iz razmerja hitrosti\n",
    "    return np.array([y[1], - F*np.cos(a), y[3], -F*np.sin(a) - g])  # Hitrosti in pospeski"
   ]
  },
  {
   "cell_type": "markdown",
   "metadata": {},
   "source": [
    "Preverimo, če funkcija sistema diferencialnih enačb prvega reda deluje pravilno:"
   ]
  },
  {
   "cell_type": "code",
   "execution_count": 4,
   "metadata": {
    "collapsed": false
   },
   "outputs": [
    {
     "data": {
      "text/plain": [
       "array([  173.20508076, -1224.74487139,   100.        ,  -716.91678119])"
      ]
     },
     "execution_count": 4,
     "metadata": {},
     "output_type": "execute_result"
    }
   ],
   "source": [
    "F(0, y_zacetni_pogoji) # Resitve: v0*cos(alpha), -F*cos(a), v0*sin(alpha), -f*sin(a)-g"
   ]
  },
  {
   "cell_type": "markdown",
   "metadata": {},
   "source": [
    "Vprašanje 4: Definirajte začetne pogoje in rešite nalogo s poljubnimi podatki."
   ]
  },
  {
   "cell_type": "markdown",
   "metadata": {},
   "source": [
    "Začetne pogoje smo že definirali pri vprašanju 2. Sedaj še rešimo nalogo."
   ]
  },
  {
   "cell_type": "code",
   "execution_count": 5,
   "metadata": {
    "collapsed": false
   },
   "outputs": [],
   "source": [
    "from scipy.integrate import ode"
   ]
  },
  {
   "cell_type": "code",
   "execution_count": 6,
   "metadata": {
    "collapsed": false
   },
   "outputs": [],
   "source": [
    "#%%timeit -n 1\n",
    "solver = ode(F).set_integrator('dopri5').set_initial_value(y_zacetni_pogoji)  # Nagrajeni Runge-Kutta\n",
    "solver.set_f_params(.5)\n",
    "t_RK4_sci = [0]\n",
    "x_RK4_sci = [y_zacetni_pogoji]\n",
    "while solver.successful() and solver.y[2] >= 0:\n",
    "    solver.integrate(solver.t+dt)\n",
    "    t_RK4_sci.append(solver.t)\n",
    "    x_RK4_sci.append(solver.y)\n",
    "t_RK4_sci = np.array(t_RK4_sci)\n",
    "x_RK4_sci = np.array(x_RK4_sci)"
   ]
  },
  {
   "cell_type": "markdown",
   "metadata": {},
   "source": [
    "Vprašanje 5: Prikažite $(x, y)$ lego masne točke, spreminjajte koeficient upora $c$."
   ]
  },
  {
   "cell_type": "markdown",
   "metadata": {},
   "source": [
    "Izrišemo rešitev iz vprašanja 4:"
   ]
  },
  {
   "cell_type": "code",
   "execution_count": 7,
   "metadata": {
    "collapsed": false
   },
   "outputs": [
    {
     "data": {
      "image/png": "[encoded data removed]",
      "text/plain": [
       "<matplotlib.figure.Figure at 0x5019668>"
      ]
     },
     "metadata": {},
     "output_type": "display_data"
    }
   ],
   "source": [
    "plt.plot(x_RK4_sci[:, 0], x_RK4_sci[:, 2], 'b.', label='Pomik - RK4 sci [m]')\n",
    "plt.xlabel('x [m]')\n",
    "plt.ylabel('y [m]')\n",
    "plt.legend(loc=(1.01, 0));"
   ]
  },
  {
   "cell_type": "markdown",
   "metadata": {},
   "source": [
    "Sedaj pa napišimo funkcijo ki bo izrisala rešitve za različne parametre $c$:"
   ]
  },
  {
   "cell_type": "code",
   "execution_count": 8,
   "metadata": {
    "collapsed": false
   },
   "outputs": [],
   "source": [
    "def resitev_SDE(F, y_zacetni_pogoji, dt, c):\n",
    "    solver = ode(F).set_integrator('dopri5').set_initial_value(y_zacetni_pogoji)\n",
    "    solver.set_f_params(c)\n",
    "    t_RK4_sci = [0]\n",
    "    x_RK4_sci = [y_zacetni_pogoji]\n",
    "    while solver.successful() and solver.y[2] >= 0:\n",
    "        solver.integrate(solver.t+dt)\n",
    "        t_RK4_sci.append(solver.t)\n",
    "        x_RK4_sci.append(solver.y)\n",
    "    t_RK4_sci = np.array(t_RK4_sci)\n",
    "    x_RK4_sci = np.array(x_RK4_sci)\n",
    "    plt.plot(x_RK4_sci[:, 0], x_RK4_sci[:, 2], label='c = '+'$'+latex(c)+'$')\n",
    "    plt.xlabel('x [m]')\n",
    "    plt.ylabel('y [m]')\n",
    "    plt.legend();\n",
    "    return "
   ]
  },
  {
   "cell_type": "markdown",
   "metadata": {},
   "source": [
    "Izrišimo nekaj rešitev:"
   ]
  },
  {
   "cell_type": "code",
   "execution_count": 9,
   "metadata": {
    "collapsed": false
   },
   "outputs": [
    {
     "data": {
      "image/png": "[encoded data removed]",
      "text/plain": [
       "<matplotlib.figure.Figure at 0x5019630>"
      ]
     },
     "metadata": {},
     "output_type": "display_data"
    }
   ],
   "source": [
    "podatki = np.asarray([0.1, 0.5, 1, 5, 10])\n",
    "\n",
    "for c in podatki:\n",
    "    resitve = resitev_SDE(F, y_zacetni_pogoji, dt, c)"
   ]
  },
  {
   "cell_type": "markdown",
   "metadata": {},
   "source": [
    "Vprašanje 6: Prikažite hitrost v odvisnosti od časa. Določite minimum hitrosti in čas pri katerem nastane."
   ]
  },
  {
   "cell_type": "markdown",
   "metadata": {},
   "source": [
    "Izrišemo hitrost v odvisnosti od časa. Uporabimo rešitve iz vprašanja 4."
   ]
  },
  {
   "cell_type": "code",
   "execution_count": 10,
   "metadata": {
    "collapsed": false
   },
   "outputs": [
    {
     "data": {
      "image/png": "[encoded data removed]",
      "text/plain": [
       "<matplotlib.figure.Figure at 0xa11b6d8>"
      ]
     },
     "metadata": {},
     "output_type": "display_data"
    }
   ],
   "source": [
    "hitrost = np.sqrt(x_RK4_sci[:, 1]**2+ x_RK4_sci[:, 3]**2)   # Formulo za hitrost smo razbrali iz vprašanja 1\n",
    "plt.plot(t_RK4_sci, hitrost, 'b.', label='Hitrost - RK4 sci [m/s]');\n",
    "plt.ylim(0,10);"
   ]
  },
  {
   "cell_type": "markdown",
   "metadata": {},
   "source": [
    "Najmanjšo hitrost poiščemo iz vektorja hitrosti s pomočjo funkcije ``np.min``:"
   ]
  },
  {
   "cell_type": "code",
   "execution_count": 11,
   "metadata": {
    "collapsed": false
   },
   "outputs": [
    {
     "data": {
      "image/png": "[encoded data removed]",
      "text/latex": [
       "$$5.57549850261$$"
      ],
      "text/plain": [
       "5.57549850261"
      ]
     },
     "execution_count": 11,
     "metadata": {},
     "output_type": "execute_result"
    }
   ],
   "source": [
    "np.min(hitrost)"
   ]
  },
  {
   "cell_type": "markdown",
   "metadata": {},
   "source": [
    "Čas najmanjše hitrosti dobimo tako, da poiščemo na katerem mestu v vektorju hitrosti se pojavi najmanjša hitrost. Nato samo še odčitamo pripadajoči čas iz časovnega vektorja."
   ]
  },
  {
   "cell_type": "code",
   "execution_count": 12,
   "metadata": {
    "collapsed": false
   },
   "outputs": [
    {
     "data": {
      "image/png": "[encoded data removed]",
      "text/latex": [
       "$$1.59$$"
      ],
      "text/plain": [
       "1.59"
      ]
     },
     "execution_count": 12,
     "metadata": {},
     "output_type": "execute_result"
    }
   ],
   "source": [
    "t_RK4_sci[np.argmin(hitrost)]"
   ]
  },
  {
   "cell_type": "code",
   "execution_count": null,
   "metadata": {
    "collapsed": false
   },
   "outputs": [],
   "source": []
  }
 ],
 "metadata": {
  "kernelspec": {
   "display_name": "Python 3",
   "language": "python",
   "name": "python3"
  },
  "language_info": {
   "codemirror_mode": {
    "name": "ipython",
    "version": 3
   },
   "file_extension": ".py",
   "mimetype": "text/x-python",
   "name": "python",
   "nbconvert_exporter": "python",
   "pygments_lexer": "ipython3",
   "version": "3.4.3"
  }
 },
 "nbformat": 4,
 "nbformat_minor": 0
}
