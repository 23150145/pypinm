{
 "metadata": {
  "name": "",
  "signature": "sha256:0bab650c64b0c3826ccc28b953789ba3a74c8e15300b1b0afc26b8e38826e6f5"
 },
 "nbformat": 3,
 "nbformat_minor": 0,
 "worksheets": [
  {
   "cells": [
    {
     "cell_type": "markdown",
     "metadata": {},
     "source": [
      "Feb 2015, J. Slavi\u010d in L.Knez\n",
      "\n",
      "Vaja #3"
     ]
    },
    {
     "cell_type": "markdown",
     "metadata": {},
     "source": [
      "Vpra\u0161anje 1: Naredite slovar lokalno name\u0161\u010denih modulov (uporabite izpeljevanje slovarjev, key naj bo ime modula, vrednost naj bo verzija)."
     ]
    },
    {
     "cell_type": "code",
     "collapsed": false,
     "input": [
      "import pip\n",
      "#moduli_vsi = {print(i.key) for i in pip.get_installed_distributions()}\n",
      "\n",
      "moduli_vsi = {i.key: i.version for i in pip.get_installed_distributions()}\n",
      "\n",
      "moduli_vsi\n"
     ],
     "language": "python",
     "metadata": {},
     "outputs": [
      {
       "metadata": {},
       "output_type": "pyout",
       "prompt_number": 7,
       "text": [
        "{'lxml': '3.4.0',\n",
        " 'binstar': '0.7.1',\n",
        " 'nose': '1.3.4',\n",
        " 'jinja2': '2.7.3',\n",
        " 'pycparser': '2.10',\n",
        " 'statsmodels': '0.5.0',\n",
        " 'multipledispatch': '0.4.7',\n",
        " 'pyside': '1.2.2',\n",
        " 'decorator': '3.4.0',\n",
        " 'pyyaml': '3.11',\n",
        " 'rope-py3k': '0.9.4-1',\n",
        " 'sympy': '0.7.5',\n",
        " 'pygments': '1.6',\n",
        " 'python-dateutil': '2.1',\n",
        " 'mock': '1.0.1',\n",
        " 'scipy': '0.14.0',\n",
        " 'sqlalchemy': '0.9.7',\n",
        " 'jdcal': '1.0',\n",
        " 'numba': '0.14.0',\n",
        " 'psutil': '2.1.1',\n",
        " 'youtube-dl': '2015.02.19.2',\n",
        " 'networkx': '1.9.1',\n",
        " 'colorama': '0.3.1',\n",
        " 'nltk': '3.0.0',\n",
        " 'py': '1.4.25',\n",
        " 'cryptography': '0.5.4',\n",
        " 'markupsafe': '0.23',\n",
        " 'menuinst': '1.0.4',\n",
        " 'sockjs-tornado': '1.0.1',\n",
        " 'blz': '0.6.2',\n",
        " 'pyparsing': '2.0.1',\n",
        " 'pillow': '2.7.0',\n",
        " 'spyder': '2.3.1',\n",
        " 'pywin32': '219',\n",
        " 'llvmpy': '0.12.7',\n",
        " 'numpy': '1.9.0',\n",
        " 'pytest': '2.6.3',\n",
        " 'conda-build': '1.8.2',\n",
        " 'docutils': '0.12',\n",
        " 'tables': '3.1.1',\n",
        " 'pytz': '2014.7',\n",
        " 'scikit-learn': '0.15.2',\n",
        " 'bokeh': '0.6.1',\n",
        " 'basemap': '1.0.8',\n",
        " 'astropy': '0.4.2',\n",
        " 'h5py': '2.3.1',\n",
        " 'pandas': '0.14.1',\n",
        " 'ipython': '2.2.0',\n",
        " 'pyzmq': '14.3.1',\n",
        " 'pycrypto': '2.6.1',\n",
        " 'datashape': '0.3.0',\n",
        " 'argcomplete': '0.8.1',\n",
        " 'pyopenssl': '0.14',\n",
        " 'ujson': '1.33',\n",
        " 'future': '0.13.1',\n",
        " 'openpyxl': '1.8.5',\n",
        " 'pyflakes': '0.8.1',\n",
        " 'sphinx': '1.2.3',\n",
        " 'blaze': '0.6.3',\n",
        " 'cython': '0.21',\n",
        " 'configobj': '5.0.6',\n",
        " 'xlrd': '0.9.3',\n",
        " 'toolz': '0.7.0',\n",
        " 'ply': '3.4',\n",
        " 'pycosat': '0.6.1',\n",
        " 'six': '1.8.0',\n",
        " 'cffi': '0.8.6',\n",
        " 'xlsxwriter': '0.5.7',\n",
        " 'werkzeug': '0.9.6',\n",
        " 'numexpr': '2.3.1',\n",
        " 'requests': '2.4.1',\n",
        " 'greenlet': '0.4.4',\n",
        " 'boto': '2.32.1',\n",
        " 'conda': '3.7.0',\n",
        " 'beautifulsoup4': '4.3.2',\n",
        " 'runipy': '0.1.1',\n",
        " 'tornado': '4.0.2',\n",
        " 'patsy': '0.3.0',\n",
        " 'bitarray': '0.8.1',\n",
        " 'cytoolz': '0.7.0',\n",
        " 'itsdangerous': '0.24',\n",
        " 'matplotlib': '1.4.0',\n",
        " 'scikit-image': '0.10.1',\n",
        " 'flask': '0.10.1',\n",
        " 'pyreadline': '2.0'}"
       ]
      }
     ],
     "prompt_number": 7
    },
    {
     "cell_type": "markdown",
     "metadata": {},
     "source": [
      "Vpra\u0161anje 2: S pomo\u010djo slovarja iz prej\u0161nje to\u010dke \u010dimbolj elegantno preverite ali so name\u0161\u010deni slede\u010di moduli: ['numpy', 'scipy', 'matplotlib', 'pandas', 'pyjamas']."
     ]
    },
    {
     "cell_type": "code",
     "collapsed": false,
     "input": [
      "moduli_iskani = {'numpy', 'scipy', 'matplotlib', 'pandas', 'pyjamas'}  # Naredim mno\u017eico\n",
      "\n",
      "# Izpi\u0161ejo se le tisti moduli, ki so nalo\u017eeni (primerjamo obe mno\u017eici, uporabimo and)\n",
      "moduli_vsi.keys() & moduli_iskani"
     ],
     "language": "python",
     "metadata": {},
     "outputs": [
      {
       "metadata": {},
       "output_type": "pyout",
       "prompt_number": 7,
       "text": [
        "{'matplotlib', 'numpy', 'pandas', 'scipy'}"
       ]
      }
     ],
     "prompt_number": 7
    },
    {
     "cell_type": "markdown",
     "metadata": {},
     "source": [
      "Vpra\u0161anje 3: Namestite poljubni modul iz https://pypi.python.org/pypi in ga preizkusite. Na vajah izpustimo."
     ]
    },
    {
     "cell_type": "markdown",
     "metadata": {},
     "source": [
      "Vpra\u0161anje 4: Pretvorite *navaden* Python seznam v ``numpy`` seznam. Preverite tip enega in drugega."
     ]
    },
    {
     "cell_type": "code",
     "collapsed": false,
     "input": [
      "matrika = [[1, 2, 3],\n",
      "           [4, 5, 6]]"
     ],
     "language": "python",
     "metadata": {},
     "outputs": [],
     "prompt_number": 3
    },
    {
     "cell_type": "code",
     "collapsed": false,
     "input": [
      "type(matrika)"
     ],
     "language": "python",
     "metadata": {},
     "outputs": [
      {
       "metadata": {},
       "output_type": "pyout",
       "prompt_number": 4,
       "text": [
        "list"
       ]
      }
     ],
     "prompt_number": 4
    },
    {
     "cell_type": "code",
     "collapsed": false,
     "input": [
      "import numpy as np\n",
      "matrika = np.asarray(matrika)\n",
      "type(matrika)"
     ],
     "language": "python",
     "metadata": {},
     "outputs": [
      {
       "metadata": {},
       "output_type": "pyout",
       "prompt_number": 5,
       "text": [
        "numpy.ndarray"
       ]
      }
     ],
     "prompt_number": 5
    },
    {
     "cell_type": "code",
     "collapsed": false,
     "input": [
      "matrika"
     ],
     "language": "python",
     "metadata": {},
     "outputs": [
      {
       "metadata": {},
       "output_type": "pyout",
       "prompt_number": 7,
       "text": [
        "array([[1, 2, 3],\n",
        "       [4, 5, 6]])"
       ]
      }
     ],
     "prompt_number": 7
    },
    {
     "cell_type": "markdown",
     "metadata": {},
     "source": [
      "Vpra\u0161anje 5: Razi\u0161\u010dite funkcije: ``np.ones``, ``np.zeros_like``, ``np.arange``, ``np.linspace`` (ali zadnja funkcija lahko vrne korak?)."
     ]
    },
    {
     "cell_type": "code",
     "collapsed": false,
     "input": [
      "a = np.ones((3, 2), dtype='complex')  \n",
      "a"
     ],
     "language": "python",
     "metadata": {},
     "outputs": [
      {
       "metadata": {},
       "output_type": "pyout",
       "prompt_number": 8,
       "text": [
        "array([[ 1.+0.j,  1.+0.j],\n",
        "       [ 1.+0.j,  1.+0.j],\n",
        "       [ 1.+0.j,  1.+0.j]])"
       ]
      }
     ],
     "prompt_number": 8
    },
    {
     "cell_type": "code",
     "collapsed": false,
     "input": [
      "b = np.zeros_like(a)  # Vrne ni\u010delno matriko z enako enako velikostjo in tipom spremenljivk\n",
      "b"
     ],
     "language": "python",
     "metadata": {},
     "outputs": [
      {
       "metadata": {},
       "output_type": "pyout",
       "prompt_number": 9,
       "text": [
        "array([[ 0.+0.j,  0.+0.j],\n",
        "       [ 0.+0.j,  0.+0.j],\n",
        "       [ 0.+0.j,  0.+0.j]])"
       ]
      }
     ],
     "prompt_number": 9
    },
    {
     "cell_type": "code",
     "collapsed": false,
     "input": [
      "c = np.arange(10, 100, 2)    # np.arrange(zacetek, konec, korak) , konca ne vrne\n",
      "c"
     ],
     "language": "python",
     "metadata": {},
     "outputs": [
      {
       "metadata": {},
       "output_type": "pyout",
       "prompt_number": 13,
       "text": [
        "array([10, 12, 14, 16, 18, 20, 22, 24, 26, 28, 30, 32, 34, 36, 38, 40, 42,\n",
        "       44, 46, 48, 50, 52, 54, 56, 58, 60, 62, 64, 66, 68, 70, 72, 74, 76,\n",
        "       78, 80, 82, 84, 86, 88, 90, 92, 94, 96, 98])"
       ]
      }
     ],
     "prompt_number": 13
    },
    {
     "cell_type": "code",
     "collapsed": false,
     "input": [
      "d = np.linspace(0, 1, 11)   # linspace glede na trenutno definicijo poda 11 enakomerno oddaljenih to\u010dk\n",
      "d"
     ],
     "language": "python",
     "metadata": {},
     "outputs": [
      {
       "metadata": {},
       "output_type": "pyout",
       "prompt_number": 14,
       "text": [
        "array([ 0. ,  0.1,  0.2,  0.3,  0.4,  0.5,  0.6,  0.7,  0.8,  0.9,  1. ])"
       ]
      }
     ],
     "prompt_number": 14
    },
    {
     "cell_type": "code",
     "collapsed": false,
     "input": [
      "d, step = np.linspace(0, 1, 11, retstep=True)  # Vrne tudi korak\n",
      "step"
     ],
     "language": "python",
     "metadata": {},
     "outputs": [
      {
       "metadata": {},
       "output_type": "pyout",
       "prompt_number": 15,
       "text": [
        "0.1"
       ]
      }
     ],
     "prompt_number": 15
    },
    {
     "cell_type": "markdown",
     "metadata": {},
     "source": [
      "Vpra\u0161anje 6: Prika\u017eite uporabo rezanja."
     ]
    },
    {
     "cell_type": "code",
     "collapsed": false,
     "input": [
      "d  "
     ],
     "language": "python",
     "metadata": {},
     "outputs": [
      {
       "metadata": {},
       "output_type": "pyout",
       "prompt_number": 16,
       "text": [
        "array([ 0. ,  0.1,  0.2,  0.3,  0.4,  0.5,  0.6,  0.7,  0.8,  0.9,  1. ])"
       ]
      }
     ],
     "prompt_number": 16
    },
    {
     "cell_type": "code",
     "collapsed": false,
     "input": [
      "d[::-1]  # Od zadnje do prve"
     ],
     "language": "python",
     "metadata": {},
     "outputs": [
      {
       "metadata": {},
       "output_type": "pyout",
       "prompt_number": 17,
       "text": [
        "array([ 1. ,  0.9,  0.8,  0.7,  0.6,  0.5,  0.4,  0.3,  0.2,  0.1,  0. ])"
       ]
      }
     ],
     "prompt_number": 17
    },
    {
     "cell_type": "code",
     "collapsed": false,
     "input": [
      "d[::2]  # Od prve do zadnje s korakom 2"
     ],
     "language": "python",
     "metadata": {},
     "outputs": [
      {
       "metadata": {},
       "output_type": "pyout",
       "prompt_number": 18,
       "text": [
        "array([ 0. ,  0.2,  0.4,  0.6,  0.8,  1. ])"
       ]
      }
     ],
     "prompt_number": 18
    },
    {
     "cell_type": "code",
     "collapsed": false,
     "input": [
      "d[4:] # Od 4 do konca"
     ],
     "language": "python",
     "metadata": {},
     "outputs": [
      {
       "metadata": {},
       "output_type": "pyout",
       "prompt_number": 19,
       "text": [
        "array([ 0.4,  0.5,  0.6,  0.7,  0.8,  0.9,  1. ])"
       ]
      }
     ],
     "prompt_number": 19
    },
    {
     "cell_type": "code",
     "collapsed": false,
     "input": [
      "d[1:] # Od 1 do konca"
     ],
     "language": "python",
     "metadata": {},
     "outputs": [
      {
       "metadata": {},
       "output_type": "pyout",
       "prompt_number": 20,
       "text": [
        "array([ 0.1,  0.2,  0.3,  0.4,  0.5,  0.6,  0.7,  0.8,  0.9,  1. ])"
       ]
      }
     ],
     "prompt_number": 20
    },
    {
     "cell_type": "code",
     "collapsed": false,
     "input": [
      "d[3:7] # Od 3 do 7 - pazi zadnjega! Polzaprt interval"
     ],
     "language": "python",
     "metadata": {},
     "outputs": [
      {
       "metadata": {},
       "output_type": "pyout",
       "prompt_number": 21,
       "text": [
        "array([ 0.3,  0.4,  0.5,  0.6])"
       ]
      }
     ],
     "prompt_number": 21
    },
    {
     "cell_type": "markdown",
     "metadata": {},
     "source": [
      "Vpra\u0161anje 7: Prika\u017eite razliko med vrsti\u010dnim in stolp\u010dnim vektorjem. Prika\u017eite tipi\u010dne matemati\u010dne operacije med vektorji in matrikami."
     ]
    },
    {
     "cell_type": "code",
     "collapsed": false,
     "input": [
      "# Vrsti\u010dni vektor\n",
      "a = np.asarray([1, 2, 3])\n",
      "print(a)\n",
      "\n",
      "# Stolpi\u010dni vektor\n",
      "b = np.ones((3, 1))\n",
      "print(b)\n",
      "\n",
      "# Naredimo \u0161e matriko\n",
      "A = np.array([[1, 2, 1], [3, 2, 1], [1, 7, 3]])\n",
      "print(A)\n",
      "\n",
      "# Transponiramo matriko\n",
      "B = A.transpose()\n",
      "print(B)"
     ],
     "language": "python",
     "metadata": {},
     "outputs": [
      {
       "output_type": "stream",
       "stream": "stdout",
       "text": [
        "[1 2 3]\n",
        "[[ 1.]\n",
        " [ 1.]\n",
        " [ 1.]]\n",
        "[[1 2 1]\n",
        " [3 2 1]\n",
        " [1 7 3]]\n",
        "[[1 3 1]\n",
        " [2 2 7]\n",
        " [1 1 3]]\n"
       ]
      }
     ],
     "prompt_number": 22
    },
    {
     "cell_type": "code",
     "collapsed": false,
     "input": [
      "# Nekaj operacij:\n",
      "print(A*B)\n",
      "\n",
      "print(a*B)\n",
      "\n",
      "print(np.dot(a, A)) \n",
      "\n",
      "print(np.cross(a, B))\n"
     ],
     "language": "python",
     "metadata": {},
     "outputs": [
      {
       "output_type": "stream",
       "stream": "stdout",
       "text": [
        "[[1 6 1]\n",
        " [6 4 7]\n",
        " [1 7 9]]\n",
        "[[ 1  6  3]\n",
        " [ 2  4 21]\n",
        " [ 1  2  9]]\n",
        "[10 27 12]\n",
        "[[-7  2  1]\n",
        " [ 8 -1 -2]\n",
        " [ 3  0 -1]]\n"
       ]
      }
     ],
     "prompt_number": 23
    },
    {
     "cell_type": "markdown",
     "metadata": {},
     "source": [
      "Vpra\u0161anje 8: Ustvarite matriko ni\u010del dimenzije 3 x 2 in drugi stolpec zapolnite z vektorjem enic."
     ]
    },
    {
     "cell_type": "code",
     "collapsed": false,
     "input": [
      "C = np.zeros((3, 2))\n",
      "C[:, 1] = 1\n",
      "C"
     ],
     "language": "python",
     "metadata": {},
     "outputs": [
      {
       "metadata": {},
       "output_type": "pyout",
       "prompt_number": 24,
       "text": [
        "array([[ 0.,  1.],\n",
        "       [ 0.,  1.],\n",
        "       [ 0.,  1.]])"
       ]
      }
     ],
     "prompt_number": 24
    },
    {
     "cell_type": "markdown",
     "metadata": {},
     "source": [
      "Vpra\u0161anje 9: Ustvarite enotsko matriko dimenzije 5 podatkovnega tipa ``complex``."
     ]
    },
    {
     "cell_type": "code",
     "collapsed": false,
     "input": [
      "I = np.identity(5, dtype=complex)\n",
      "I"
     ],
     "language": "python",
     "metadata": {},
     "outputs": [
      {
       "metadata": {},
       "output_type": "pyout",
       "prompt_number": 25,
       "text": [
        "array([[ 1.+0.j,  0.+0.j,  0.+0.j,  0.+0.j,  0.+0.j],\n",
        "       [ 0.+0.j,  1.+0.j,  0.+0.j,  0.+0.j,  0.+0.j],\n",
        "       [ 0.+0.j,  0.+0.j,  1.+0.j,  0.+0.j,  0.+0.j],\n",
        "       [ 0.+0.j,  0.+0.j,  0.+0.j,  1.+0.j,  0.+0.j],\n",
        "       [ 0.+0.j,  0.+0.j,  0.+0.j,  0.+0.j,  1.+0.j]])"
       ]
      }
     ],
     "prompt_number": 25
    },
    {
     "cell_type": "markdown",
     "metadata": {},
     "source": [
      "Vpra\u0161anje 10: Ustvarite matriko enic dimenzije ``N`` in izra\u010dunajte vsoto poljubnga stolpca. Poskusite najti najhitrej\u0161i in najelegantnej\u0161i (vektoriziran) na\u010din in ga primerjajte s pristopom v zanki. Namig: np.sum()."
     ]
    },
    {
     "cell_type": "code",
     "collapsed": false,
     "input": [
      "A = np.ones((1000,1000))"
     ],
     "language": "python",
     "metadata": {},
     "outputs": [],
     "prompt_number": 24
    },
    {
     "cell_type": "code",
     "collapsed": false,
     "input": [
      "print(np.sum(A[:,1]))  # Sesteva po vseh vrsticah, po drugem stolpcu"
     ],
     "language": "python",
     "metadata": {},
     "outputs": [
      {
       "output_type": "stream",
       "stream": "stdout",
       "text": [
        "1000.0\n"
       ]
      }
     ],
     "prompt_number": 25
    },
    {
     "cell_type": "code",
     "collapsed": false,
     "input": [
      "%timeit np.sum(A[:,1]) "
     ],
     "language": "python",
     "metadata": {},
     "outputs": [
      {
       "output_type": "stream",
       "stream": "stdout",
       "text": [
        "100000 loops, best of 3: 16.5 \u00b5s per loop\n"
       ]
      }
     ],
     "prompt_number": 26
    },
    {
     "cell_type": "code",
     "collapsed": false,
     "input": [
      "out = 0.               # Bere vrstico po vrstico in nato se\u0161teva drugi element (to je seveda drugi stolpec)\n",
      "for vrstica in A:\n",
      "    out += vrstica[1]\n",
      "    \n",
      "out"
     ],
     "language": "python",
     "metadata": {},
     "outputs": [
      {
       "metadata": {},
       "output_type": "pyout",
       "prompt_number": 27,
       "text": [
        "1000.0"
       ]
      }
     ],
     "prompt_number": 27
    },
    {
     "cell_type": "code",
     "collapsed": false,
     "input": [
      "%%timeit\n",
      "out = 0.\n",
      "for vrstica in A:\n",
      "    out += vrstica[1]"
     ],
     "language": "python",
     "metadata": {},
     "outputs": [
      {
       "output_type": "stream",
       "stream": "stdout",
       "text": [
        "1000 loops, best of 3: 337 \u00b5s per loop\n"
       ]
      }
     ],
     "prompt_number": 28
    }
   ],
   "metadata": {}
  }
 ]
}