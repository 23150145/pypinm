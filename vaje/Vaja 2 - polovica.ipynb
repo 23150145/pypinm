{
 "metadata": {
  "name": "",
  "signature": "sha256:2ab2bc92ac5ba3fee35fb277d4d419b447b1af78ff77c2663ea9d41a8cbdc6c1"
 },
 "nbformat": 3,
 "nbformat_minor": 0,
 "worksheets": [
  {
   "cells": [
    {
     "cell_type": "markdown",
     "metadata": {},
     "source": [
      "Feb 2015, J.Slavi\u010d in L.Knez"
     ]
    },
    {
     "cell_type": "markdown",
     "metadata": {},
     "source": [
      "Vaja #2"
     ]
    },
    {
     "cell_type": "markdown",
     "metadata": {},
     "source": [
      "Vpra\u0161anje 1: Odprite datoteko za zapis in vanjo vpi\u0161ite formatirani (skupaj 7 mest, 3 decimalna mesta) seznam v dveh stolpcih. Razlo\u010devalni znak med stolpci naj bo prazen znak ' '."
     ]
    },
    {
     "cell_type": "code",
     "collapsed": false,
     "input": [
      "datoteka = open('Zapis.txt', mode='w')  # Odprem / kreiram datoteko"
     ],
     "language": "python",
     "metadata": {},
     "outputs": [],
     "prompt_number": 1
    },
    {
     "cell_type": "code",
     "collapsed": false,
     "input": [
      "datoteka.write('Urejen niz podatkov: \\n')   # Naredimo glavo v datoteki"
     ],
     "language": "python",
     "metadata": {},
     "outputs": [
      {
       "metadata": {},
       "output_type": "pyout",
       "prompt_number": 2,
       "text": [
        "22"
       ]
      }
     ],
     "prompt_number": 2
    },
    {
     "cell_type": "markdown",
     "metadata": {},
     "source": [
      "Kreirajmo seznam in ga izvozimo v datoteko:"
     ]
    },
    {
     "cell_type": "code",
     "collapsed": false,
     "input": [
      "for i in range(7):\n",
      "    podatek_levi = (1 + i)/16\n",
      "    podatek_desni = (1 + i)/8\n",
      "    datoteka.write('{0:7.3f} {1:7.3f}\\n'.format(podatek_levi, podatek_desni))"
     ],
     "language": "python",
     "metadata": {},
     "outputs": [],
     "prompt_number": 3
    },
    {
     "cell_type": "code",
     "collapsed": false,
     "input": [
      "datoteka.close()    # Ko smo vse zapisali zapremo datoteko dol"
     ],
     "language": "python",
     "metadata": {},
     "outputs": [],
     "prompt_number": 4
    },
    {
     "cell_type": "markdown",
     "metadata": {},
     "source": [
      "Vpra\u0161anje 2: Odprite pripeto datoteko ``zapis_labview.lvm`` (gre za zapis iz programa LabView) in preberite glavo v obliki slovarja ('ime polja': vrednost)."
     ]
    },
    {
     "cell_type": "code",
     "collapsed": false,
     "input": [
      "labview = open('zapis_labview.lvm', mode='r') # Odpremo datoteko\n",
      "\n",
      "seznam = []  # Pripravimo prazen seznam, na katerega bomo pripenjali vrednosti  \n",
      "for vrstica in labview:\n",
      "    podatek = vrstica.split()  # Vrstico razbijemo na dva stolpca\n",
      "    if len(podatek) is 2:\n",
      "         seznam.append((podatek[0], podatek[1]))  # V seznam shranjujemo dvojico terk, bomo rabili za narediti slovar\n",
      "    else:\n",
      "        break  # Ko pride do End of header se ustavi\n",
      "        \n",
      "labview.close() # Zapremo datoteko\n",
      "\n",
      "# Naredimo slovar\n",
      "slovar = dict(seznam)\n",
      "\n",
      "print(slovar)\n",
      "\n",
      "# Preverimo \u010de dela\n",
      "print(slovar['Time'])\n"
     ],
     "language": "python",
     "metadata": {},
     "outputs": [
      {
       "output_type": "stream",
       "stream": "stdout",
       "text": [
        "[('LabVIEW', 'Measurement'), ('Writer_Version', '2'), ('Reader_Version', '2'), ('Separator', 'Tab'), ('Decimal_Separator', ','), ('Multi_Headings', 'Yes'), ('X_Columns', 'No'), ('Time_Pref', 'Absolute'), ('Operator', 'JS'), ('Date', '2013/02/19'), ('Time', '09:51:39,1970510124996275989')]\n",
        "{'Reader_Version': '2', 'Decimal_Separator': ',', 'Operator': 'JS', 'Date': '2013/02/19', 'LabVIEW': 'Measurement', 'Writer_Version': '2', 'X_Columns': 'No', 'Time': '09:51:39,1970510124996275989', 'Multi_Headings': 'Yes', 'Separator': 'Tab', 'Time_Pref': 'Absolute'}\n",
        "09:51:39,1970510124996275989\n"
       ]
      }
     ],
     "prompt_number": 1
    },
    {
     "cell_type": "markdown",
     "metadata": {},
     "source": [
      "Vpra\u0161anje 3:  V datoteki iz prej\u0161nje to\u010dke preberiet podatke (uporabite funkcijo ``replace()`` za zamenjavo decimalne vejice v piko in nato pretvorite niz v \u0161tevilo. Najdite ustrezno dokumentacijo/help)."
     ]
    },
    {
     "cell_type": "code",
     "collapsed": false,
     "input": [
      "# 1 varianta (hitrej\u0161a)\n",
      "\n",
      "labview = open('zapis_labview.lvm', mode='r')\n",
      "\n",
      "shrani = False\n",
      "stolp_1 = []\n",
      "stolp_2 = []\n",
      "for vrstica in labview:\n",
      "    podatek = vrstica.split()  \n",
      "    \n",
      "    if 'Comment' in podatek:  # Naslednji vrstico od comment pricne shranjevati\n",
      "        shrani = True\n",
      "        continue\n",
      "        \n",
      "    if shrani is True:\n",
      "        stolp_1.append(float(podatek[0].replace(',', '.')))\n",
      "        stolp_2.append(float(podatek[1].replace(',', '.')))\n",
      "\n",
      "print(stolp_1)\n",
      "print(stolp_2)\n",
      "    "
     ],
     "language": "python",
     "metadata": {},
     "outputs": [
      {
       "output_type": "stream",
       "stream": "stdout",
       "text": [
        "[0.914018, 0.537321, 0.616905, 0.895449, 0.57446, 0.516099, 1.046658, 0.39407, 0.741586, 0.680572]\n",
        "[1.204792, 1.208403, 1.213915, 1.212205, 1.222088, 1.218223, 1.213408, 1.221011, 1.211888, 1.212775]\n"
       ]
      }
     ],
     "prompt_number": 21
    },
    {
     "cell_type": "code",
     "collapsed": false,
     "input": [
      "# Varianta 2 (po\u010dasnej\u0161a)\n",
      "\n",
      "labview = open('zapis_labview.lvm', mode='r')\n",
      "\n",
      "besedilo = labview.read()  # Prebere celo datoteko, dobimo besedilo\n",
      "# print(besedilo)\n",
      "\n",
      "# Zamenjamo decimalno vejico z decimalno piko\n",
      "besedilo = besedilo.replace(',', '.')\n",
      "#print(besedilo)\n",
      "\n",
      "seznam = besedilo.split()  # Razbije besedilo na posamezne kose, naredi seznam\n",
      "\n",
      "_ = seznam.index('Comment') # Poi\u0161\u010demo kje v seznamu le\u017ei zadnja beseda in kje se za\u010dnejo podatki\n",
      "\n",
      "# Zbri\u0161emo vse elemente, ki niso podatki\n",
      "del seznam[:_+1]\n",
      "\n",
      "# Spremenimo v float in shranimo v dva stolpca\n",
      "stolp_1 = []\n",
      "stolp_2 = []\n",
      "\n",
      "for stevilo, element in enumerate(seznam):\n",
      "    if stevilo is 0:\n",
      "        stolp_1.append(float(element))\n",
      "    elif stevilo%2 is 0:\n",
      "        stolp_1.append(float(element))\n",
      "    else:\n",
      "        stolp_2.append(float(element))\n",
      "        \n",
      "print(stolp_1)\n",
      "print(stolp_2)"
     ],
     "language": "python",
     "metadata": {},
     "outputs": [
      {
       "output_type": "stream",
       "stream": "stdout",
       "text": [
        "[0.914018, 0.537321, 0.616905, 0.895449, 0.57446, 0.516099, 1.046658, 0.39407, 0.741586, 0.680572]\n",
        "[1.204792, 1.208403, 1.213915, 1.212205, 1.222088, 1.218223, 1.213408, 1.221011, 1.211888, 1.212775]\n"
       ]
      }
     ],
     "prompt_number": 22
    },
    {
     "cell_type": "markdown",
     "metadata": {},
     "source": [
      "Link za pomo\u010d: https://docs.python.org/3.4/library/stdtypes.html?highlight=replace#str.replace"
     ]
    },
    {
     "cell_type": "markdown",
     "metadata": {},
     "source": [
      "Vpra\u0161anje 4: Na poljubnem seznamu besed prika\u017eite uporabo izpeljevanja seznamov tako, da zamenjate samoglasnik."
     ]
    },
    {
     "cell_type": "code",
     "collapsed": false,
     "input": [
      "# Najprej naredimo en seznam, katerega elementi so stringi\n",
      "\n",
      "seznam = ['Tole', 'je', 'eno', 'f\u00fcl', 'k\u00fcl', 'besedilo']\n",
      "\n",
      "[a.replace('e', '!') for a in seznam]    # Zamenjamo vse samoglasnike e z !\n"
     ],
     "language": "python",
     "metadata": {},
     "outputs": [
      {
       "metadata": {},
       "output_type": "pyout",
       "prompt_number": 9,
       "text": [
        "['Tol!', 'j!', '!no', 'f\u00fcl', 'k\u00fcl', 'b!s!dilo']"
       ]
      }
     ],
     "prompt_number": 9
    },
    {
     "cell_type": "markdown",
     "metadata": {},
     "source": [
      "Vpra\u0161anje 5: Napi\u0161i funkcijo, ki prejme seznam. \n",
      "* \u010ce so v seznamu besede, potem vrne njihovo dol\u017eino.\n",
      "* \u010ce so v seznamu numeri\u010dne vrednosti, potem vrne njihove vrednosti, pove\u010dane za ena."
     ]
    },
    {
     "cell_type": "code",
     "collapsed": false,
     "input": [
      "# Napi\u0161imo funkcijo\n",
      "# Varianta 1\n",
      "def preureditev(seznam):\n",
      "    if isinstance(seznam[0], str):    # [0] zato ker se seznam list, posamezni elementi so pa string\n",
      "        rezultat = [len(_) for _ in seznam]    # _ je za\u010dasna spremenljivka, njeno ime je nepomembno\n",
      "        print(rezultat)\n",
      "    elif isinstance(seznam[0], (float, int)):  # \u0160tevilo je lahko int ali float !\n",
      "        rezultat = [_ + 1 for _ in seznam]\n",
      "        print(rezultat)\n",
      "    else:\n",
      "        print('Va\u0161 seznam ni ne besedilo ne numeri\u010dna vrednost. Preverite!')\n",
      "        \n",
      "# Varianta 2 (kraj\u0161e)\n",
      "def preureditev_2(seznam):\n",
      "    rezultat = [float(s)+1 if isinstance(s, (float, int)) else len(s) for s in seznam]\n",
      "    print(rezultat)\n",
      "\n",
      "# Preverimo z besedami\n",
      "seznam_besede = ['\u0161tudent', 'ra\u010dunalnik', 'hi\u0161a', 'miza', 'Ojoj!']\n",
      "\n",
      "preureditev(seznam_besede)   # Pokli\u010demo funkcijo\n",
      "\n",
      "preureditev_2(seznam_besede)\n",
      "\n",
      "# Preverimo s \u0161tevilkami (float in int)\n",
      "seznam_stevilke1 = [3, 7, 1, 11, 9]\n",
      "seznam_stevilke2 = [4.2, 4.9, 11.3, 13.2]\n",
      "\n",
      "preureditev(seznam_stevilke1) \n",
      "\n",
      "preureditev(seznam_stevilke2)\n",
      "\n",
      "preureditev_2(seznam_stevilke2)\n"
     ],
     "language": "python",
     "metadata": {},
     "outputs": [
      {
       "output_type": "stream",
       "stream": "stdout",
       "text": [
        "[7, 10, 4, 4, 5]\n",
        "[7, 10, 4, 4, 5]\n",
        "[4, 8, 2, 12, 10]\n",
        "[5.2, 5.9, 12.3, 14.2]\n",
        "[5.2, 5.9, 12.3, 14.2]\n"
       ]
      }
     ],
     "prompt_number": 1
    },
    {
     "cell_type": "markdown",
     "metadata": {},
     "source": [
      "Vpra\u0161anje 6: Zgornjo funkcijo nadgradite: \u010de se v funkcijo vstavi prazen seznam (dol\u017eine 0), potem naj spro\u017ei izjemo ``Exception`` z ustreznim opisom.\n"
     ]
    },
    {
     "cell_type": "code",
     "collapsed": false,
     "input": [
      "# Nadgradimo funkcijo\n",
      "def preureditev(seznam):\n",
      "    \"\"\" Ta funkcija prebere seznam (ki ne sme biti prazen).\n",
      " \u010ce gre za seznam iz besed, potem vrne njihovo dol\u017eino.\n",
      " \u010ce gre za seznam iz \u0161tevil, potem jim pri\u0161teje vrednost 1.\n",
      "    \"\"\"\n",
      "    if len(seznam) is 0:\n",
      "        raise Exception('Seznam je prazen!')\n",
      "    \n",
      "    if isinstance(seznam[0], str):    # [0] zato ker se seznam list, posamezni elementi so pa string\n",
      "        rezultat = [len(_) for _ in seznam]    # _ je za\u010dasna spremenljivka, njeno ime je nepomembno\n",
      "        print(rezultat)\n",
      "    elif isinstance(seznam[0], (float, int)):  # \u0160tevilo je lahko int ali float !\n",
      "        rezultat = [_ + 1 for _ in seznam]\n",
      "        print(rezultat)\n",
      "    else:\n",
      "        print('Va\u0161 seznam ni ne besedilo ne numeri\u010dna vrednost. Preverite!')\n",
      "        \n",
      "# Preverimo s praznim listom\n",
      "seznam_prazen = []\n",
      "preureditev(seznam_prazen)\n",
      "\n",
      "# Preverimo z \u0161tevili   - vidimo da se koda od exception dalje sploh ne izvaja\n",
      "preureditev(seznam_stevilke1)"
     ],
     "language": "python",
     "metadata": {},
     "outputs": [
      {
       "ename": "Exception",
       "evalue": "Seznam je prazen!",
       "output_type": "pyerr",
       "traceback": [
        "\u001b[1;31m---------------------------------------------------------------------------\u001b[0m\n\u001b[1;31mException\u001b[0m                                 Traceback (most recent call last)",
        "\u001b[1;32m<ipython-input-41-4c61df0b03d7>\u001b[0m in \u001b[0;36m<module>\u001b[1;34m()\u001b[0m\n\u001b[0;32m     19\u001b[0m \u001b[1;31m# Preverimo s praznim listom\u001b[0m\u001b[1;33m\u001b[0m\u001b[1;33m\u001b[0m\u001b[0m\n\u001b[0;32m     20\u001b[0m \u001b[0mseznam_prazen\u001b[0m \u001b[1;33m=\u001b[0m \u001b[1;33m[\u001b[0m\u001b[1;33m]\u001b[0m\u001b[1;33m\u001b[0m\u001b[0m\n\u001b[1;32m---> 21\u001b[1;33m \u001b[0mpreureditev\u001b[0m\u001b[1;33m(\u001b[0m\u001b[0mseznam_prazen\u001b[0m\u001b[1;33m)\u001b[0m\u001b[1;33m\u001b[0m\u001b[0m\n\u001b[0m\u001b[0;32m     22\u001b[0m \u001b[1;33m\u001b[0m\u001b[0m\n\u001b[0;32m     23\u001b[0m \u001b[1;31m# Preverimo z \u0161tevili   - vidimo da se koda od exception dalje sploh ne izvaja\u001b[0m\u001b[1;33m\u001b[0m\u001b[1;33m\u001b[0m\u001b[0m\n",
        "\u001b[1;32m<ipython-input-41-4c61df0b03d7>\u001b[0m in \u001b[0;36mpreureditev\u001b[1;34m(seznam)\u001b[0m\n\u001b[0;32m      6\u001b[0m     \"\"\"\n\u001b[0;32m      7\u001b[0m     \u001b[1;32mif\u001b[0m \u001b[0mlen\u001b[0m\u001b[1;33m(\u001b[0m\u001b[0mseznam\u001b[0m\u001b[1;33m)\u001b[0m \u001b[1;32mis\u001b[0m \u001b[1;36m0\u001b[0m\u001b[1;33m:\u001b[0m\u001b[1;33m\u001b[0m\u001b[0m\n\u001b[1;32m----> 8\u001b[1;33m         \u001b[1;32mraise\u001b[0m \u001b[0mException\u001b[0m\u001b[1;33m(\u001b[0m\u001b[1;34m'Seznam je prazen!'\u001b[0m\u001b[1;33m)\u001b[0m\u001b[1;33m\u001b[0m\u001b[0m\n\u001b[0m\u001b[0;32m      9\u001b[0m \u001b[1;33m\u001b[0m\u001b[0m\n\u001b[0;32m     10\u001b[0m     \u001b[1;32mif\u001b[0m \u001b[0misinstance\u001b[0m\u001b[1;33m(\u001b[0m\u001b[0mseznam\u001b[0m\u001b[1;33m[\u001b[0m\u001b[1;36m0\u001b[0m\u001b[1;33m]\u001b[0m\u001b[1;33m,\u001b[0m \u001b[0mstr\u001b[0m\u001b[1;33m)\u001b[0m\u001b[1;33m:\u001b[0m    \u001b[1;31m# [0] zato ker se seznam list, posamezni elementi so pa string\u001b[0m\u001b[1;33m\u001b[0m\u001b[0m\n",
        "\u001b[1;31mException\u001b[0m: Seznam je prazen!"
       ]
      }
     ],
     "prompt_number": 41
    },
    {
     "cell_type": "markdown",
     "metadata": {},
     "source": [
      "Vpra\u0161anje 7: Pripravite novo funkcijo ki bo klicala funkcijo iz to\u010dke 6 in lovila izjeme."
     ]
    },
    {
     "cell_type": "code",
     "collapsed": false,
     "input": [
      "# Nova funkcija\n",
      "def preureditev_2(seznam):\n",
      "    \"\"\" Naredi podobno kot funkcija preureditev, vendar ima bolj robusten na\u010din preverjanja napak\"\"\"\n",
      "    try:\n",
      "        \n",
      "        preureditev(seznam) # \u010ce se napaka ne spro\u017ei, potem pokli\u010demo obstoje\u010do funkcijo\n",
      "        \n",
      "    except Exception as error:   # Izpis napake \n",
      "        print(error)\n",
      "        \n",
      "# Preverimo z praznim listom\n",
      "seznam_prazen = []\n",
      "preureditev_2(seznam_prazen)\n",
      "\n",
      "# Preverimo z ok listom  - vidimo da se v tem primeru koda izvede dalje\n",
      "preureditev_2(seznam_stevilke2)"
     ],
     "language": "python",
     "metadata": {},
     "outputs": [
      {
       "output_type": "stream",
       "stream": "stdout",
       "text": [
        "Seznam je prazen!\n",
        "[5.2, 5.9, 12.3, 14.2]\n"
       ]
      }
     ],
     "prompt_number": 13
    },
    {
     "cell_type": "markdown",
     "metadata": {},
     "source": [
      "Vpra\u0161anje 8: Za obe funkciji pripravite *docstring*."
     ]
    },
    {
     "cell_type": "code",
     "collapsed": false,
     "input": [
      "# Komentarje bomo vpisali kar v zgornje funkcije, tukaj jih bomo samo poklicali\n",
      "?preureditev"
     ],
     "language": "python",
     "metadata": {},
     "outputs": [],
     "prompt_number": 20
    },
    {
     "cell_type": "code",
     "collapsed": false,
     "input": [
      "?preureditev_2"
     ],
     "language": "python",
     "metadata": {},
     "outputs": [],
     "prompt_number": 21
    },
    {
     "cell_type": "code",
     "collapsed": false,
     "input": [
      "# Lahko tudi takole\n",
      "print(preureditev.__doc__)\n",
      "\n",
      "print(preureditev_2.__doc__)"
     ],
     "language": "python",
     "metadata": {},
     "outputs": [
      {
       "output_type": "stream",
       "stream": "stdout",
       "text": [
        " Ta funkcija prebere seznam (ki ne sme biti prazen).\n",
        " \u010ce gre za seznam iz besed, potem vrne njihovo dol\u017eino.\n",
        " \u010ce gre za seznam iz \u0161tevil, potem jim pri\u0161teje vrednost 1.\n",
        "    \n",
        " Naredi podobno kot funkcija preureditev, vendar ima bolj robusten na\u010din preverjanja napak\n"
       ]
      }
     ],
     "prompt_number": 22
    },
    {
     "cell_type": "markdown",
     "metadata": {},
     "source": [
      "Vpra\u0161anje 9: Prika\u017eite uporabo argumentov s privzetimi vrednostmi."
     ]
    },
    {
     "cell_type": "code",
     "collapsed": false,
     "input": [
      "# Naredimo funkcijo, ki izracuna volumen stozca\n",
      "\n",
      "# Potrebovali bomo \u0161tevilo pi, zato uvozimo modul numpy (uvozimo izven funkcije, zato da se uvozi samo enkrat)\n",
      "import numpy as np\n",
      "\n",
      "def volumen_stozca(polmer = 1, visina = 1):\n",
      "    \"\"\" Program izra\u010duna volumen sto\u017eca, potrebno je uvoziti modul math da normalno deluje\"\"\"\n",
      "    rezultat = 1/3 * np.pi * polmer**2 * visina\n",
      "    print('Uporabljeni podatki: polmer = {0:g} vi\u0161ina ={1:g}'.format(polmer, visina))\n",
      "    print('Volumen sto\u017eca je: {:5.3f}'.format(rezultat))\n",
      "\n",
      "# \u010ce funkciji ne podamo polmera ali vi\u0161ine ali obeh, potem funkcija uporabi privzete vrednosti:\n",
      "volumen_stozca()\n",
      "\n",
      "volumen_stozca(3, )\n",
      "\n",
      "volumen_stozca(visina = 5)"
     ],
     "language": "python",
     "metadata": {},
     "outputs": [
      {
       "output_type": "stream",
       "stream": "stdout",
       "text": [
        "Uporabljeni podatki: polmer = 1 vi\u0161ina =1\n",
        "Volumen sto\u017eca je: 1.047\n",
        "Uporabljeni podatki: polmer = 3 vi\u0161ina =1\n",
        "Volumen sto\u017eca je: 9.425\n",
        "Uporabljeni podatki: polmer = 1 vi\u0161ina =5\n",
        "Volumen sto\u017eca je: 5.236\n"
       ]
      }
     ],
     "prompt_number": 2
    },
    {
     "cell_type": "markdown",
     "metadata": {},
     "source": [
      "Vpra\u0161anje 10: Prika\u017eite uporabo argumentov glede na mesto in glede na ime."
     ]
    },
    {
     "cell_type": "code",
     "collapsed": false,
     "input": [
      "# To smo v resnici \u017ee uporabili pri vpra\u0161anju 9. Ponazorimo:\n",
      "\n",
      "# Mesto\n",
      "volumen_stozca(2,3)\n",
      "\n",
      "# Ime\n",
      "polmer = 5\n",
      "volumen_stozca(polmer, visina = 3)"
     ],
     "language": "python",
     "metadata": {},
     "outputs": [
      {
       "output_type": "stream",
       "stream": "stdout",
       "text": [
        "Uporabljeni podatki: polmer = 2 vi\u0161ina =3\n",
        "Volumen sto\u017eca je: 12.566\n",
        "Uporabljeni podatki: polmer = 5 vi\u0161ina =3\n",
        "Volumen sto\u017eca je: 78.540\n"
       ]
      }
     ],
     "prompt_number": 3
    }
   ],
   "metadata": {}
  }
 ]
}