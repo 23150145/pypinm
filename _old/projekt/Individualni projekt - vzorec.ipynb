{
 "cells": [
  {
   "cell_type": "markdown",
   "metadata": {},
   "source": [
    "Avtor: **Ime in priimek, vpisna številka**\n",
    "\n",
    "Datum: 15. april 2016\n",
    "\n",
    "*Potrjujem, da sem avtor projektne naloge in da sem vso vsebino pripravil sam. V primeru, da se ugotovi plagiatorstvo se zavedam, da ne bom izpolnjeval pogojev za pristop k izpitu.*"
   ]
  },
  {
   "cell_type": "markdown",
   "metadata": {},
   "source": [
    "# Individualni projekt - vzorec"
   ]
  },
  {
   "cell_type": "markdown",
   "metadata": {},
   "source": [
    "## Ocena individualnega projekta (največ 100%):\n",
    "* 30% numerična pravilnost*\n",
    "* 20% uporabniški vmesnik / prikaz rezultatov\n",
    "* 10% pripravljeni testi pravilnosti kode\n",
    "* 10% struktura, urejenost in stil kode, komentiranje kode (docstring)\n",
    "* 10% vsaj dve od ekstra ali ena od EKSTRA funkcij\n",
    "* 20% lasten odnos / kreativni dodatek\n",
    "\n",
    "\\* Dokler individualni projekt ni numerično pravilen, ocena ne more biti dodeljena (vsak popravek oceno seminarja zmanjša za 10%). Vsak dan zamude oddaje seminarja oceno zmanjša za 5%. \n",
    "    \n",
    "Seminar se odda v obliki mape, ki vsebuje IPython notebook ter vse potrebne datoteke.\n",
    "\n",
    "Primer ekstra funkcij: animacija rezultatov, pošiljanje na email, zapis v excel, kreiranje poročila (word/pdf, npr. reportLab).\n",
    "\n",
    "Primer EKSTRA funkcij: zapis v bazo podatkov ali drugo urejeno strukturo (npr. SQLite, Pandas), uporaba slikovne obdelave (npr. scikit.image), zajem eksperimentalnih podatkov z pyDAQmx, interaktivni prikaz (npr. bokeh.pydata.org),  aplikacija v oblaku (npr. Google appengine, Amazon web server), 3D CAD (npr. pythonOCC).\n",
    "\n",
    "\n",
    "Seminar se odda v obliki source kode, ki jo preverjamo za plagiatorstvo. Če odkrijemo, da so deli projekta enaki do takšne mere, da gre za očiten plagiat, bodo kaznovani vsi udeleženi, ne glede na to, kdo je resnični avtor. Odstotek uspešnosti bomo zmanjšali za dvakratnik tistega, kar bi s plagiatom pridobili.  **Če gre za čisto in očitno prepisovanje, pa se razveljavi celotno sprotno delo in se ne prizna izpolnjevanje pogojev za pristop k izpitu**."
   ]
  },
  {
   "cell_type": "markdown",
   "metadata": {},
   "source": [
    "### Definicija naloge"
   ]
  },
  {
   "cell_type": "markdown",
   "metadata": {},
   "source": [
    "Rešen je zgled 3.1.1 iz knjige - *Janko Slavič - Dinamika, mehanska nihanja in mehanika tekočin (2014)* ."
   ]
  },
  {
   "cell_type": "markdown",
   "metadata": {},
   "source": [
    "Na sliki 3.22 je prikazan dinamski sistem, sestavljen iz palice mase *m* in dolžine *l*. Torzijska vzmet togosti $k_{\\varphi}$ je v vrtišču; na sredini palice je sistem dveh vzporedno vezanih vzmeti, vsaka togosti $k$; na koncu palice pa vzmet togosti $k$. Pri reševanju uporabite prikazano koordinato $\\varphi$, ki ima izhodišče v statični ravnovesni legi. Predpostavite nihanje z majhnimi koti.\n",
    "\n",
    "*Podatki:* $m$ = 1 kg, $l$= 1 m, $k$ = 10 kN/m, $k_{\\varphi}$ = 10 kNm/rad, $\\varphi_{0}$ = 0.01 rad, $t_{1}$ = 50 ms.\n",
    "\n",
    "Določite:\n",
    "1. Število prostostnih stopenj sistema.\n",
    "* Ali prednapetje zaradi teže spremeni lastno frekvenco sistema?\n",
    "* Gibalno enačbo glede na statično ravnovesno lego.\n",
    "* Lastno krožno frekvenco sistema.\n",
    "* Določite odziv pri $t_{1}$, če sistem izpustimo iz lege $\\varphi_{0}$."
   ]
  },
  {
   "cell_type": "markdown",
   "metadata": {},
   "source": [
    "Slika 3.22 iz vira Slavič 2014:\n",
    "<img src='Slavic2014-slika 3.22.png', width=250>"
   ]
  },
  {
   "cell_type": "markdown",
   "metadata": {},
   "source": [
    "Zahteve pri PiNM:\n",
    "1. Nalogo rešite v simbolni obliki.\n",
    "* Definirajte modul vir_zgled_3_1_1.py in v njem funkcijo resi(). Funkcija naj sprejme slovar z numeričnimi podatki in vrne slovar z rešitvami naloge (glede na podatke v viru).\n",
    "* Spreminjajte parameter $k$ od 1 kN/m do 100 kN/m in izračunajte lastne krožne frekvence sistema. K rezultatu dodajte določeno mero šuma in podatke ustrezno aproksimirajte.\n",
    "* Predpostavite ustrezne začetne pogoje in izračunajte zasuk sistema za prve 0,2 sekunde.\n",
    "* Poiščite prve 4 trenutke, ko je nihalo v ravnovesni legi."
   ]
  },
  {
   "cell_type": "markdown",
   "metadata": {},
   "source": [
    "### 1. Simbolično reševanje "
   ]
  },
  {
   "cell_type": "code",
   "execution_count": 1,
   "metadata": {
    "collapsed": false
   },
   "outputs": [],
   "source": [
    "# Uvozimo modul za simbolično reševanje\n",
    "from sympy import *\n",
    "init_printing()"
   ]
  },
  {
   "cell_type": "markdown",
   "metadata": {},
   "source": [
    "**Odgovor 1:** Gre za sistem z eno prostostno stopnjo."
   ]
  },
  {
   "cell_type": "markdown",
   "metadata": {},
   "source": [
    "**Odgovor 2:** Gre za linearen sistem, zato prednapetje nima vpliva na lastno frekvenco. "
   ]
  },
  {
   "cell_type": "markdown",
   "metadata": {},
   "source": [
    "**Odgovor 3: Določitev gibalne enačbe glede na na statično ravnovesno lego.**"
   ]
  },
  {
   "cell_type": "markdown",
   "metadata": {},
   "source": [
    "Potrebne spremenljivke in podatki:"
   ]
  },
  {
   "cell_type": "code",
   "execution_count": 2,
   "metadata": {
    "collapsed": false
   },
   "outputs": [],
   "source": [
    "# Definiramo simbolne parametre\n",
    "m, l, k, k_varphi, varphi_0, t_1 = symbols('m l k k_varphi varphi_0 t_1', real=True, positive=True)\n",
    "# Definiramo simbolne spremenljivke\n",
    "varphi, t = symbols('varphi t')\n",
    "\n",
    "# Potrebovali bomo MVM okoli vrtišča\n",
    "Ja = (m*l**2)/3\n",
    "\n",
    "# Predpostavimo majhne kote\n",
    "x1 = l/2*varphi\n",
    "x2 = l*varphi\n",
    "\n",
    "# Numerične rešitve bomo iskali pri podatkih\n",
    "podatki = {m: 1., l: 1., k: 10000., k_varphi: 10000., varphi_0: 0.01, t_1: 50./1000}"
   ]
  },
  {
   "cell_type": "markdown",
   "metadata": {},
   "source": [
    "Zapišemo gibalno enačbo - rotacija okoli vrtišča:"
   ]
  },
  {
   "cell_type": "code",
   "execution_count": 3,
   "metadata": {
    "collapsed": false
   },
   "outputs": [
    {
     "data": {
      "image/png": "[encoded data removed]",
      "text/latex": [
       "$$- \\frac{3 \\varphi}{2} k l^{2} - k_{\\varphi} \\varphi = \\frac{l^{2} m}{3} \\frac{d^{2}}{d t^{2}}  \\varphi{\\left (t \\right )}$$"
      ],
      "text/plain": [
       "                                          2           \n",
       "                                    2    d            \n",
       "                                   l ⋅m⋅───(varphi(t))\n",
       "       2                                  2           \n",
       "  3⋅k⋅l ⋅varphi                         dt            \n",
       "- ───────────── - kᵥₐᵣₚₕᵢ⋅varphi = ───────────────────\n",
       "        2                                   3         "
      ]
     },
     "execution_count": 3,
     "metadata": {},
     "output_type": "execute_result"
    }
   ],
   "source": [
    "eq = Eq(-k_varphi*varphi -2*k*x1*l/2 -k*x2*l, Ja*varphi(t).diff(t, 2))\n",
    "eq"
   ]
  },
  {
   "cell_type": "markdown",
   "metadata": {},
   "source": [
    "Še uredimo in normiramo:"
   ]
  },
  {
   "cell_type": "code",
   "execution_count": 4,
   "metadata": {
    "collapsed": false
   },
   "outputs": [
    {
     "data": {
      "image/png": "[encoded data removed]",
      "text/latex": [
       "$$\\left(\\frac{9 k}{2 m} + \\frac{3 k_{\\varphi}}{l^{2} m}\\right) \\varphi{\\left (t \\right )} + \\frac{d^{2}}{d t^{2}}  \\varphi{\\left (t \\right )} = 0$$"
      ],
      "text/plain": [
       "                                2               \n",
       "⎛9⋅k   3⋅kᵥₐᵣₚₕᵢ⎞              d                \n",
       "⎜─── + ─────────⎟⋅varphi(t) + ───(varphi(t)) = 0\n",
       "⎜2⋅m       2    ⎟               2               \n",
       "⎝         l ⋅m  ⎠             dt                "
      ]
     },
     "execution_count": 4,
     "metadata": {},
     "output_type": "execute_result"
    }
   ],
   "source": [
    "leva = -simplify(eq.args[0]/Ja).coeff(varphi)\n",
    "desna = eq.args[1]/Ja\n",
    "\n",
    "eq_urejena = Eq(leva*varphi(t) + desna, 0)\n",
    "eq_urejena"
   ]
  },
  {
   "cell_type": "markdown",
   "metadata": {},
   "source": [
    "**Odgovor 4: Določitev lastne krožne frekvence sistema.**"
   ]
  },
  {
   "cell_type": "markdown",
   "metadata": {},
   "source": [
    "Lastna krožna frekvenca [rad/s]:"
   ]
  },
  {
   "cell_type": "code",
   "execution_count": 5,
   "metadata": {
    "collapsed": false
   },
   "outputs": [
    {
     "data": {
      "image/png": "[encoded data removed]",
      "text/latex": [
       "$$\\sqrt{\\frac{9 k}{2 m} + \\frac{3 k_{\\varphi}}{l^{2} m}}$$"
      ],
      "text/plain": [
       "     _________________\n",
       "    ╱ 9⋅k   3⋅kᵥₐᵣₚₕᵢ \n",
       "   ╱  ─── + ───────── \n",
       "  ╱   2⋅m       2     \n",
       "╲╱             l ⋅m   "
      ]
     },
     "execution_count": 5,
     "metadata": {},
     "output_type": "execute_result"
    }
   ],
   "source": [
    "w0_r = sqrt(leva)\n",
    "w0_r"
   ]
  },
  {
   "cell_type": "code",
   "execution_count": 6,
   "metadata": {
    "collapsed": false
   },
   "outputs": [
    {
     "data": {
      "image/png": "[encoded data removed]",
      "text/latex": [
       "$$273.861278752583$$"
      ],
      "text/plain": [
       "273.861278752583"
      ]
     },
     "execution_count": 6,
     "metadata": {},
     "output_type": "execute_result"
    }
   ],
   "source": [
    "w0_r.subs(podatki)"
   ]
  },
  {
   "cell_type": "markdown",
   "metadata": {},
   "source": [
    "Še lastna frekvenca [Hz]:"
   ]
  },
  {
   "cell_type": "code",
   "execution_count": 7,
   "metadata": {
    "collapsed": false
   },
   "outputs": [
    {
     "data": {
      "image/png": "[encoded data removed]",
      "text/latex": [
       "$$\\frac{1}{2 \\pi} \\sqrt{\\frac{9 k}{2 m} + \\frac{3 k_{\\varphi}}{l^{2} m}}$$"
      ],
      "text/plain": [
       "     _________________\n",
       "    ╱ 9⋅k   3⋅kᵥₐᵣₚₕᵢ \n",
       "   ╱  ─── + ───────── \n",
       "  ╱   2⋅m       2     \n",
       "╲╱             l ⋅m   \n",
       "──────────────────────\n",
       "         2⋅π          "
      ]
     },
     "execution_count": 7,
     "metadata": {},
     "output_type": "execute_result"
    }
   ],
   "source": [
    "f0_r = w0_r/(2*pi)\n",
    "f0_r"
   ]
  },
  {
   "cell_type": "code",
   "execution_count": 8,
   "metadata": {
    "collapsed": false
   },
   "outputs": [
    {
     "data": {
      "image/png": "[encoded data removed]",
      "text/latex": [
       "$$43.586376234941$$"
      ],
      "text/plain": [
       "43.5863762349410"
      ]
     },
     "execution_count": 8,
     "metadata": {},
     "output_type": "execute_result"
    }
   ],
   "source": [
    "f0_r.evalf(subs=podatki)"
   ]
  },
  {
   "cell_type": "markdown",
   "metadata": {},
   "source": [
    "**Odgovor 5: Odziv pri $t_{1}$, če sistem izpustimo iz lege $\\varphi_{0}$.**"
   ]
  },
  {
   "cell_type": "markdown",
   "metadata": {},
   "source": [
    "Zapišemo nastavek za reševanje diferencialne enačbe:"
   ]
  },
  {
   "cell_type": "code",
   "execution_count": 9,
   "metadata": {
    "collapsed": false
   },
   "outputs": [
    {
     "data": {
      "image/png": "[encoded data removed]",
      "text/latex": [
       "$$A \\cos{\\left (\\omega_{0} t \\right )} + B \\sin{\\left (\\omega_{0} t \\right )}$$"
      ],
      "text/plain": [
       "A⋅cos(ω₀⋅t) + B⋅sin(ω₀⋅t)"
      ]
     },
     "execution_count": 9,
     "metadata": {},
     "output_type": "execute_result"
    }
   ],
   "source": [
    "# Potrebovali bomo dodatne spremenljivke:\n",
    "omega_0, A, B = symbols('omega_0 A B')\n",
    "\n",
    "nastavek = A*cos(omega_0*t) + B*sin(omega_0*t)\n",
    "nastavek"
   ]
  },
  {
   "cell_type": "markdown",
   "metadata": {},
   "source": [
    "Iz začetnega zasuka $\\varphi$(t=0) = $\\varphi_{0}$ izračunamo A:"
   ]
  },
  {
   "cell_type": "code",
   "execution_count": 10,
   "metadata": {
    "collapsed": false
   },
   "outputs": [
    {
     "data": {
      "image/png": "[encoded data removed]",
      "text/latex": [
       "$$A = \\varphi_{0}$$"
      ],
      "text/plain": [
       "A = varphi₀"
      ]
     },
     "execution_count": 10,
     "metadata": {},
     "output_type": "execute_result"
    }
   ],
   "source": [
    "eq1 = Eq(nastavek.subs(t, 0), varphi_0)\n",
    "eq1"
   ]
  },
  {
   "cell_type": "markdown",
   "metadata": {},
   "source": [
    "Ker smo spustili sistem iz stanja mirovanja velja tudi: $\\dot{\\varphi}$(t=0) = 0:"
   ]
  },
  {
   "cell_type": "code",
   "execution_count": 11,
   "metadata": {
    "collapsed": false
   },
   "outputs": [
    {
     "data": {
      "image/png": "[encoded data removed]",
      "text/latex": [
       "$$B \\omega_{0} = 0$$"
      ],
      "text/plain": [
       "B⋅ω₀ = 0"
      ]
     },
     "execution_count": 11,
     "metadata": {},
     "output_type": "execute_result"
    }
   ],
   "source": [
    "eq2 = Eq(nastavek.diff(t).subs(t, 0), 0)\n",
    "eq2"
   ]
  },
  {
   "cell_type": "markdown",
   "metadata": {},
   "source": [
    "Velja torej:"
   ]
  },
  {
   "cell_type": "code",
   "execution_count": 12,
   "metadata": {
    "collapsed": false
   },
   "outputs": [],
   "source": [
    "A_n = eq1.args[1]\n",
    "B_n = eq2.args[1]"
   ]
  },
  {
   "cell_type": "markdown",
   "metadata": {},
   "source": [
    "Glede na začetne pogoje sistem torej niha po enačbi:"
   ]
  },
  {
   "cell_type": "code",
   "execution_count": 13,
   "metadata": {
    "collapsed": false
   },
   "outputs": [
    {
     "data": {
      "image/png": "[encoded data removed]",
      "text/latex": [
       "$$\\varphi_{0} \\cos{\\left (t \\sqrt{\\frac{9 k}{2 m} + \\frac{3 k_{\\varphi}}{l^{2} m}} \\right )}$$"
      ],
      "text/plain": [
       "           ⎛       _________________⎞\n",
       "           ⎜      ╱ 9⋅k   3⋅kᵥₐᵣₚₕᵢ ⎟\n",
       "varphi₀⋅cos⎜t⋅   ╱  ─── + ───────── ⎟\n",
       "           ⎜    ╱   2⋅m       2     ⎟\n",
       "           ⎝  ╲╱             l ⋅m   ⎠"
      ]
     },
     "execution_count": 13,
     "metadata": {},
     "output_type": "execute_result"
    }
   ],
   "source": [
    "fi = nastavek.subs('A', A_n).subs('B', B_n).subs('omega_0', w0_r)\n",
    "fi"
   ]
  },
  {
   "cell_type": "markdown",
   "metadata": {},
   "source": [
    "Ob času $t_1$ je zasuk torej:"
   ]
  },
  {
   "cell_type": "code",
   "execution_count": 14,
   "metadata": {
    "collapsed": false
   },
   "outputs": [
    {
     "data": {
      "image/png": "[encoded data removed]",
      "text/latex": [
       "$$\\varphi_{0} \\cos{\\left (t_{1} \\sqrt{\\frac{9 k}{2 m} + \\frac{3 k_{\\varphi}}{l^{2} m}} \\right )}$$"
      ],
      "text/plain": [
       "           ⎛        _________________⎞\n",
       "           ⎜       ╱ 9⋅k   3⋅kᵥₐᵣₚₕᵢ ⎟\n",
       "varphi₀⋅cos⎜t₁⋅   ╱  ─── + ───────── ⎟\n",
       "           ⎜     ╱   2⋅m       2     ⎟\n",
       "           ⎝   ╲╱             l ⋅m   ⎠"
      ]
     },
     "execution_count": 14,
     "metadata": {},
     "output_type": "execute_result"
    }
   ],
   "source": [
    "fi.subs(t, t_1)"
   ]
  },
  {
   "cell_type": "code",
   "execution_count": 15,
   "metadata": {
    "collapsed": false
   },
   "outputs": [
    {
     "data": {
      "image/png": "[encoded data removed]",
      "text/latex": [
       "$$0.00429648068650477$$"
      ],
      "text/plain": [
       "0.00429648068650477"
      ]
     },
     "execution_count": 15,
     "metadata": {},
     "output_type": "execute_result"
    }
   ],
   "source": [
    "fi.subs(t, t_1).subs(podatki)"
   ]
  },
  {
   "cell_type": "markdown",
   "metadata": {},
   "source": [
    "### 2. Test modula"
   ]
  },
  {
   "cell_type": "markdown",
   "metadata": {},
   "source": [
    "Uvozimo modul:"
   ]
  },
  {
   "cell_type": "code",
   "execution_count": 16,
   "metadata": {
    "collapsed": false
   },
   "outputs": [],
   "source": [
    "import vir1_zgled_3_1_1"
   ]
  },
  {
   "cell_type": "markdown",
   "metadata": {},
   "source": [
    "Pripravimo podatke tako, da bodo spremenljivke poimenovane s nizom (string) in ne kot simbol:"
   ]
  },
  {
   "cell_type": "code",
   "execution_count": 17,
   "metadata": {
    "collapsed": false
   },
   "outputs": [],
   "source": [
    "podatki_str={str(key):value for key, value in podatki.items()}"
   ]
  },
  {
   "cell_type": "markdown",
   "metadata": {},
   "source": [
    "Sedaj pridobimo rešitev:"
   ]
  },
  {
   "cell_type": "code",
   "execution_count": 18,
   "metadata": {
    "collapsed": false
   },
   "outputs": [
    {
     "name": "stdout",
     "output_type": "stream",
     "text": [
      "Lastna krožna frekvenca znaša: 273.861 rad/s.\n",
      "Zasuk pri času t1 znaša: 0.00429648 rad.\n"
     ]
    }
   ],
   "source": [
    "resitve = vir1_zgled_3_1_1.resi(podatki_str)\n",
    "\n",
    "lastna = resitve['w_0']\n",
    "odziv = resitve['odziv']\n",
    "\n",
    "print('Lastna krožna frekvenca znaša: {:g} rad/s.'.format(lastna))\n",
    "print('Zasuk pri času t1 znaša: {:g} rad.'.format(odziv))"
   ]
  },
  {
   "cell_type": "markdown",
   "metadata": {},
   "source": [
    "Preverimo še z analitično rešitvijo:"
   ]
  },
  {
   "cell_type": "code",
   "execution_count": 19,
   "metadata": {
    "collapsed": false
   },
   "outputs": [
    {
     "data": {
      "image/png": "[encoded data removed]",
      "text/latex": [
       "$$\\sqrt{\\frac{9 k}{2 m} + \\frac{3 k_{\\varphi}}{l^{2} m}}$$"
      ],
      "text/plain": [
       "     _________________\n",
       "    ╱ 9⋅k   3⋅kᵥₐᵣₚₕᵢ \n",
       "   ╱  ─── + ───────── \n",
       "  ╱   2⋅m       2     \n",
       "╲╱             l ⋅m   "
      ]
     },
     "execution_count": 19,
     "metadata": {},
     "output_type": "execute_result"
    }
   ],
   "source": [
    "w0_r"
   ]
  },
  {
   "cell_type": "code",
   "execution_count": 20,
   "metadata": {
    "collapsed": false
   },
   "outputs": [
    {
     "data": {
      "image/png": "[encoded data removed]",
      "text/latex": [
       "$$273.861278752583$$"
      ],
      "text/plain": [
       "273.861278752583"
      ]
     },
     "execution_count": 20,
     "metadata": {},
     "output_type": "execute_result"
    }
   ],
   "source": [
    "w0_r.subs(podatki)"
   ]
  },
  {
   "cell_type": "markdown",
   "metadata": {},
   "source": [
    "### 3. Aproksimacija"
   ]
  },
  {
   "cell_type": "markdown",
   "metadata": {},
   "source": [
    "Uvozimo potreben modul:"
   ]
  },
  {
   "cell_type": "code",
   "execution_count": 21,
   "metadata": {
    "collapsed": false
   },
   "outputs": [],
   "source": [
    "import numpy as np\n",
    "import matplotlib.pyplot as plt\n",
    "% matplotlib inline"
   ]
  },
  {
   "cell_type": "markdown",
   "metadata": {},
   "source": [
    "Izračun bomo izvršili z uporabo modula vir1_zgled_3_1_1, ki smo ga uvozili zgoraj:"
   ]
  },
  {
   "cell_type": "code",
   "execution_count": 22,
   "metadata": {
    "collapsed": false
   },
   "outputs": [],
   "source": [
    "pod = podatki_str\n",
    "def podatki_posodobi(novi_k):\n",
    "    pod['k'] = novi_k\n",
    "    return pod"
   ]
  },
  {
   "cell_type": "code",
   "execution_count": 23,
   "metadata": {
    "collapsed": false
   },
   "outputs": [],
   "source": [
    "k_num = np.linspace(1, 10, 20)*1000   # Izračunali bomo v 20 primerih\n",
    "\n",
    "# Izračunamo vse rešitve\n",
    "resitve = [vir1_zgled_3_1_1.resi(podatki_posodobi(k_)) for k_ in k_num]\n",
    "\n",
    "# V seznam lastne si shranimo le lastne vrednosti in dodamo šum\n",
    "lastne = [res['w_0']+np.random.normal(scale=1) for res in resitve]"
   ]
  },
  {
   "cell_type": "markdown",
   "metadata": {},
   "source": [
    "Narišemo izračunane rešitve:"
   ]
  },
  {
   "cell_type": "code",
   "execution_count": 24,
   "metadata": {
    "collapsed": false
   },
   "outputs": [
    {
     "data": {
      "image/png": "[encoded data removed]",
      "text/plain": [
       "<matplotlib.figure.Figure at 0x2d77ea4ec18>"
      ]
     },
     "metadata": {},
     "output_type": "display_data"
    }
   ],
   "source": [
    "plt.plot(k_num, lastne, 'ro');\n",
    "plt.xlabel('Togost [N/m]');\n",
    "plt.ylabel('Lastna krožna frekvenca [rad/s]');"
   ]
  },
  {
   "cell_type": "markdown",
   "metadata": {},
   "source": [
    "Aproksimirajmo izračunane podatke z premico:"
   ]
  },
  {
   "cell_type": "code",
   "execution_count": 25,
   "metadata": {
    "collapsed": false
   },
   "outputs": [
    {
     "data": {
      "text/plain": [
       "array([  9.63171716e-03,   1.79043437e+02])"
      ]
     },
     "execution_count": 25,
     "metadata": {},
     "output_type": "execute_result"
    }
   ],
   "source": [
    "# Shranimo še lastne kot np.array\n",
    "lastne = np.asarray(lastne, dtype=float)\n",
    "\n",
    "parametri = np.polyfit(k_num, lastne, deg=1)\n",
    "parametri"
   ]
  },
  {
   "cell_type": "markdown",
   "metadata": {},
   "source": [
    "Narišemo aproksimacijsko premico ter prvotne podatke:"
   ]
  },
  {
   "cell_type": "code",
   "execution_count": 26,
   "metadata": {
    "collapsed": false
   },
   "outputs": [
    {
     "data": {
      "image/png": "[encoded data removed]",
      "text/plain": [
       "<matplotlib.figure.Figure at 0x2d77ea55160>"
      ]
     },
     "metadata": {},
     "output_type": "display_data"
    }
   ],
   "source": [
    "x = np.linspace(min(k_num), max(k_num), 100)\n",
    "\n",
    "plt.plot(k_num, lastne, 'ro');\n",
    "plt.plot(x, np.polyval(parametri, x), 'b');\n",
    "plt.xlabel('Togost [N/m]');\n",
    "plt.ylabel('Lastna krožna frekvenca [rad/s]');"
   ]
  },
  {
   "cell_type": "markdown",
   "metadata": {},
   "source": [
    "## Lasten odnos: nadgradnja aproksimacije"
   ]
  },
  {
   "cell_type": "markdown",
   "metadata": {},
   "source": [
    "Tukaj ugotovimo, da aproksimacija z linearno funkcijo nima dosti smisla. Naloga definira, da naj podatke *ustrezno* approkimiramo; najprej poskusimo s polinomom višje stopnje."
   ]
  },
  {
   "cell_type": "code",
   "execution_count": 27,
   "metadata": {
    "collapsed": false
   },
   "outputs": [
    {
     "data": {
      "image/png": "[encoded data removed]",
      "text/plain": [
       "<matplotlib.figure.Figure at 0x2d77eaac6a0>"
      ]
     },
     "metadata": {},
     "output_type": "display_data"
    }
   ],
   "source": [
    "parametri = np.polyfit(k_num, lastne, deg=3)\n",
    "x = np.linspace(min(k_num), max(k_num), 100)\n",
    "\n",
    "plt.plot(k_num, lastne, 'ro');\n",
    "plt.plot(x, np.polyval(parametri, x), 'b');\n",
    "plt.xlabel('Togost [N/m]');\n",
    "plt.ylabel('Lastna krožna frekvenca [rad/s]');"
   ]
  },
  {
   "cell_type": "markdown",
   "metadata": {},
   "source": [
    "Ugotovimo bistveno boljše ujemanje, vendar sedaj poskusimo še s poznavanjem gibalne enečbe. Vemo, da velja: \n",
    "$$\\omega_0=\\sqrt{\\frac{9 k}{2 m} + \\frac{3 k_{\\varphi}}{l^{2} m}}.$$\n",
    "Maso in dolžino relativno enostavno določimo. Poskusimo tukaj iz izmerjenih podatkov identificirati $k_{\\varphi}$. Vemo: "
   ]
  },
  {
   "cell_type": "code",
   "execution_count": 28,
   "metadata": {
    "collapsed": false
   },
   "outputs": [
    {
     "data": {
      "image/png": "[encoded data removed]",
      "text/latex": [
       "$$\\sqrt{\\frac{9 k}{2 m} + \\frac{3 k_{\\varphi}}{l^{2} m}}$$"
      ],
      "text/plain": [
       "     _________________\n",
       "    ╱ 9⋅k   3⋅kᵥₐᵣₚₕᵢ \n",
       "   ╱  ─── + ───────── \n",
       "  ╱   2⋅m       2     \n",
       "╲╱             l ⋅m   "
      ]
     },
     "execution_count": 28,
     "metadata": {},
     "output_type": "execute_result"
    }
   ],
   "source": [
    "w0_r"
   ]
  },
  {
   "cell_type": "markdown",
   "metadata": {},
   "source": [
    "Sledi, da lahko zapišemo funkcijo za aproksimacijo (identificirati želimo parameter $k_{\\varphi}$):"
   ]
  },
  {
   "cell_type": "code",
   "execution_count": 29,
   "metadata": {
    "collapsed": false
   },
   "outputs": [],
   "source": [
    "def w0_za_approx(k, kr):\n",
    "    return np.sqrt(9*k/(2*podatki_str['m'])+3*kr/(podatki_str['l']**2*podatki_str['m']))"
   ]
  },
  {
   "cell_type": "code",
   "execution_count": 30,
   "metadata": {
    "collapsed": false
   },
   "outputs": [],
   "source": [
    "from scipy import optimize"
   ]
  },
  {
   "cell_type": "code",
   "execution_count": 31,
   "metadata": {
    "collapsed": false
   },
   "outputs": [
    {
     "data": {
      "text/plain": [
       "array([ 9936.86060835])"
      ]
     },
     "execution_count": 31,
     "metadata": {},
     "output_type": "execute_result"
    }
   ],
   "source": [
    "res, _ = optimize.curve_fit(w0_za_approx, k_num, lastne)\n",
    "res"
   ]
  },
  {
   "cell_type": "markdown",
   "metadata": {},
   "source": [
    "Identificirana vrednost je zelo blizu pravi:"
   ]
  },
  {
   "cell_type": "code",
   "execution_count": 32,
   "metadata": {
    "collapsed": false
   },
   "outputs": [
    {
     "data": {
      "image/png": "[encoded data removed]",
      "text/latex": [
       "$$10000.0$$"
      ],
      "text/plain": [
       "10000.0"
      ]
     },
     "execution_count": 32,
     "metadata": {},
     "output_type": "execute_result"
    }
   ],
   "source": [
    "podatki_str['k_varphi']"
   ]
  },
  {
   "cell_type": "markdown",
   "metadata": {},
   "source": [
    "### 4. Reševanje diferencialne enačbe"
   ]
  },
  {
   "cell_type": "markdown",
   "metadata": {},
   "source": [
    "Izpišemo diferencialno enačbo, ki jo rešujemo:"
   ]
  },
  {
   "cell_type": "code",
   "execution_count": 33,
   "metadata": {
    "collapsed": false
   },
   "outputs": [
    {
     "data": {
      "image/png": "[encoded data removed]",
      "text/latex": [
       "$$\\left(\\frac{9 k}{2 m} + \\frac{3 k_{\\varphi}}{l^{2} m}\\right) \\varphi{\\left (t \\right )} + \\frac{d^{2}}{d t^{2}}  \\varphi{\\left (t \\right )} = 0$$"
      ],
      "text/plain": [
       "                                2               \n",
       "⎛9⋅k   3⋅kᵥₐᵣₚₕᵢ⎞              d                \n",
       "⎜─── + ─────────⎟⋅varphi(t) + ───(varphi(t)) = 0\n",
       "⎜2⋅m       2    ⎟               2               \n",
       "⎝         l ⋅m  ⎠             dt                "
      ]
     },
     "execution_count": 33,
     "metadata": {},
     "output_type": "execute_result"
    }
   ],
   "source": [
    "eq_urejena"
   ]
  },
  {
   "cell_type": "code",
   "execution_count": 34,
   "metadata": {
    "collapsed": true
   },
   "outputs": [],
   "source": [
    "m = 1\n",
    "l = 1\n",
    "k = 1e4\n",
    "k_fi = 1e4\n",
    "fi_0 = 0.01\n",
    "t_1 = 0.05\n",
    "dt=0.001"
   ]
  },
  {
   "cell_type": "code",
   "execution_count": 35,
   "metadata": {
    "collapsed": false
   },
   "outputs": [],
   "source": [
    "fi_zp = np.array([fi_0, 0])"
   ]
  },
  {
   "cell_type": "code",
   "execution_count": 36,
   "metadata": {
    "collapsed": true
   },
   "outputs": [],
   "source": [
    "def funkcija_dif(fi, t):\n",
    "    return np.array([fi[1], -(9*k/(2*m) + 3*k_fi/(l**2*m))*fi[0]])"
   ]
  },
  {
   "cell_type": "code",
   "execution_count": 37,
   "metadata": {
    "collapsed": true
   },
   "outputs": [],
   "source": [
    "from scipy.integrate import odeint"
   ]
  },
  {
   "cell_type": "code",
   "execution_count": 38,
   "metadata": {
    "collapsed": false
   },
   "outputs": [],
   "source": [
    "time = np.linspace(0, t_1, 100)\n",
    "fi_resitev = odeint(funkcija_dif, fi_zp, time)"
   ]
  },
  {
   "cell_type": "code",
   "execution_count": 39,
   "metadata": {
    "collapsed": false
   },
   "outputs": [
    {
     "data": {
      "image/png": "[encoded data removed]",
      "text/plain": [
       "<matplotlib.figure.Figure at 0x2d77fa46be0>"
      ]
     },
     "metadata": {},
     "output_type": "display_data"
    }
   ],
   "source": [
    "fig, ax1 = plt.subplots()\n",
    "ax1.plot(time, fi_resitev[:,0], 'b')\n",
    "ax1.plot(time[-1], fi_resitev[-1,0], 'bo')\n",
    "ax1.set_xlabel('time (s)')\n",
    "# Make the y-axis label and tick labels match the line color.\n",
    "ax1.set_ylabel('zasuk', color='b')\n",
    "\n",
    "ax2 = ax1.twinx()\n",
    "ax2.plot(time, fi_resitev[:,1],'r')\n",
    "ax2.plot(time[-1], fi_resitev[-1,1], 'ro')\n",
    "ax2.set_ylabel('kotna hitrost', color='r')\n",
    "plt.show()"
   ]
  },
  {
   "cell_type": "markdown",
   "metadata": {},
   "source": [
    "### 5. Iskanje ničel"
   ]
  },
  {
   "cell_type": "markdown",
   "metadata": {},
   "source": [
    "Pri iskanju ničel v splošnem iščemo $f(t)=0$, ker nam zgornja numerična rešitev ne da vrednosti funkcije $f(t)$ pri poljubnem času $t$, moramo najprej izvesti odsekovno polinomsko interpolacijo (uporabili bomo `scipy` implementacijo kubičnih zlepkov 3 stopnje):"
   ]
  },
  {
   "cell_type": "code",
   "execution_count": 61,
   "metadata": {
    "collapsed": false
   },
   "outputs": [
    {
     "data": {
      "text/plain": [
       "array(0.01)"
      ]
     },
     "execution_count": 61,
     "metadata": {},
     "output_type": "execute_result"
    }
   ],
   "source": [
    "from scipy.interpolate import InterpolatedUnivariateSpline\n",
    "zasuk = InterpolatedUnivariateSpline(time, fi_resitev[:,0])\n",
    "zasuk(0.)"
   ]
  },
  {
   "cell_type": "markdown",
   "metadata": {},
   "source": [
    "Lahko si pripravimo tudi kotno hitrost (glede na interpolacijsko funkcijo zgoraj, lahko bi interpolirali tudi numerične rezultate):"
   ]
  },
  {
   "cell_type": "code",
   "execution_count": 66,
   "metadata": {
    "collapsed": false
   },
   "outputs": [],
   "source": [
    "kotna_hitrost = zasuk.derivative(n=1)"
   ]
  },
  {
   "cell_type": "markdown",
   "metadata": {},
   "source": [
    "Odsekovna interpolacija ima na robovih relativno veliko napako:"
   ]
  },
  {
   "cell_type": "code",
   "execution_count": 68,
   "metadata": {
    "collapsed": false
   },
   "outputs": [
    {
     "data": {
      "text/plain": [
       "array(0.0012857441328962584)"
      ]
     },
     "execution_count": 68,
     "metadata": {},
     "output_type": "execute_result"
    }
   ],
   "source": [
    "kotna_hitrost(0)"
   ]
  },
  {
   "cell_type": "code",
   "execution_count": 69,
   "metadata": {
    "collapsed": false
   },
   "outputs": [
    {
     "data": {
      "image/png": "[encoded data removed]",
      "text/latex": [
       "$$0.0$$"
      ],
      "text/plain": [
       "0.0"
      ]
     },
     "execution_count": 69,
     "metadata": {},
     "output_type": "execute_result"
    }
   ],
   "source": [
    "fi_resitev[0,1]"
   ]
  },
  {
   "cell_type": "markdown",
   "metadata": {},
   "source": [
    "Prikažimo, da lahko sedaj prikažemo vrednosti poljubno gosto:"
   ]
  },
  {
   "cell_type": "code",
   "execution_count": 70,
   "metadata": {
    "collapsed": false
   },
   "outputs": [
    {
     "data": {
      "image/png": "[encoded data removed]",
      "text/plain": [
       "<matplotlib.figure.Figure at 0x2d77ff6bc18>"
      ]
     },
     "metadata": {},
     "output_type": "display_data"
    }
   ],
   "source": [
    "time2 = np.linspace(0, t_1, 1000)\n",
    "plt.plot(time[time<t_1/10], fi_resitev[time<t_1/10,0], 'or')\n",
    "plt.plot(time2[time2<t_1/10],  zasuk(time2)[time2<t_1/10], '.b')\n",
    "plt.show()"
   ]
  },
  {
   "cell_type": "markdown",
   "metadata": {},
   "source": [
    "In sedaj lahko nadaljujemo z iskanjem ničle (ko je zasuk enak nič):"
   ]
  },
  {
   "cell_type": "code",
   "execution_count": 71,
   "metadata": {
    "collapsed": false
   },
   "outputs": [],
   "source": [
    "# Uvozimo ustrezne module\n",
    "from scipy import optimize"
   ]
  },
  {
   "cell_type": "markdown",
   "metadata": {},
   "source": [
    "Pripravimo optimizirano funkcijo za uporabo v Newtonovi metodi:"
   ]
  },
  {
   "cell_type": "code",
   "execution_count": 72,
   "metadata": {
    "collapsed": false
   },
   "outputs": [
    {
     "data": {
      "text/plain": [
       "array(0.01)"
      ]
     },
     "execution_count": 72,
     "metadata": {},
     "output_type": "execute_result"
    }
   ],
   "source": [
    "zasuk(0)"
   ]
  },
  {
   "cell_type": "markdown",
   "metadata": {},
   "source": [
    "Poiščemo prvo ničlo:"
   ]
  },
  {
   "cell_type": "code",
   "execution_count": 75,
   "metadata": {
    "collapsed": false
   },
   "outputs": [
    {
     "data": {
      "image/png": "[encoded data removed]",
      "text/latex": [
       "$$0.00573573710007$$"
      ],
      "text/plain": [
       "0.00573573710007"
      ]
     },
     "execution_count": 75,
     "metadata": {},
     "output_type": "execute_result"
    }
   ],
   "source": [
    "nicla_0 = optimize.newton(zasuk, 0.01)\n",
    "nicla_0"
   ]
  },
  {
   "cell_type": "markdown",
   "metadata": {},
   "source": [
    "Vemo, da se ničle pojavijo na periodo polovic; izračunamo perido:"
   ]
  },
  {
   "cell_type": "code",
   "execution_count": 84,
   "metadata": {
    "collapsed": false
   },
   "outputs": [
    {
     "data": {
      "image/png": "[encoded data removed]",
      "text/latex": [
       "$$0.022942948838181904$$"
      ],
      "text/plain": [
       "0.022942948838181904"
      ]
     },
     "execution_count": 84,
     "metadata": {},
     "output_type": "execute_result"
    }
   ],
   "source": [
    "T = float(2*np.pi/w0_r.subs(podatki).evalf())\n",
    "T"
   ]
  },
  {
   "cell_type": "markdown",
   "metadata": {},
   "source": [
    "Sledi izračun ničel:"
   ]
  },
  {
   "cell_type": "code",
   "execution_count": 91,
   "metadata": {
    "collapsed": false
   },
   "outputs": [
    {
     "data": {
      "image/png": "[encoded data removed]",
      "text/latex": [
       "$$\\left [ 0.00573573710007, \\quad 0.0172072112089, \\quad 0.0286786850227, \\quad 0.0401501591859\\right ]$$"
      ],
      "text/plain": [
       "[0.00573573710007, 0.0172072112089, 0.0286786850227, 0.0401501591859]"
      ]
     },
     "execution_count": 91,
     "metadata": {},
     "output_type": "execute_result"
    }
   ],
   "source": [
    "nicle = [optimize.newton(zasuk, 0.01+i*T/2) for i in range(4)]\n",
    "nicle"
   ]
  },
  {
   "cell_type": "markdown",
   "metadata": {},
   "source": [
    "Preverimo še ustreznost rešitev:"
   ]
  },
  {
   "cell_type": "code",
   "execution_count": 92,
   "metadata": {
    "collapsed": false
   },
   "outputs": [
    {
     "data": {
      "text/plain": [
       "[array(-9.660915595071859e-15),\n",
       " array(1.0253388433668624e-14),\n",
       " array(-1.1281936756341038e-14),\n",
       " array(1.1814815347854085e-14)]"
      ]
     },
     "execution_count": 92,
     "metadata": {},
     "output_type": "execute_result"
    }
   ],
   "source": [
    "[zasuk(nicla) for nicla in nicle]"
   ]
  },
  {
   "cell_type": "markdown",
   "metadata": {},
   "source": [
    "In izrišemo:"
   ]
  },
  {
   "cell_type": "code",
   "execution_count": 93,
   "metadata": {
    "collapsed": false
   },
   "outputs": [
    {
     "data": {
      "image/png": "[encoded data removed]",
      "text/plain": [
       "<matplotlib.figure.Figure at 0x2d70113c438>"
      ]
     },
     "metadata": {},
     "output_type": "display_data"
    }
   ],
   "source": [
    "x = np.linspace(0, t_1, 100)\n",
    "plt.plot(x, [zasuk(_) for _ in x])\n",
    "plt.plot(nicle, [zasuk(nicla) for nicla in nicle], 'ro');"
   ]
  }
 ],
 "metadata": {
  "kernelspec": {
   "display_name": "Python 3",
   "language": "python",
   "name": "python3"
  },
  "language_info": {
   "codemirror_mode": {
    "name": "ipython",
    "version": 3
   },
   "file_extension": ".py",
   "mimetype": "text/x-python",
   "name": "python",
   "nbconvert_exporter": "python",
   "pygments_lexer": "ipython3",
   "version": "3.5.1"
  }
 },
 "nbformat": 4,
 "nbformat_minor": 0
}
